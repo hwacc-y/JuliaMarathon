{
 "cells": [
  {
   "cell_type": "markdown",
   "metadata": {},
   "source": [
    "# Julia 機器學習：GLM 線性迴歸\n",
    "\n",
    "## 作業 027：波士頓房價預測資料集\n",
    "\n",
    "請使用 GLM 中的模型，建立一個預測模型來預測波士頓的房價。"
   ]
  },
  {
   "cell_type": "code",
   "execution_count": 1,
   "metadata": {},
   "outputs": [
    {
     "name": "stderr",
     "output_type": "stream",
     "text": [
      "┌ Info: Precompiling GLM [38e38edf-8417-5370-95a0-9cbb8c7f171a]\n",
      "└ @ Base loading.jl:1260\n",
      "┌ Info: Precompiling RDatasets [ce6b1742-4840-55fa-b093-852dadbb1d8b]\n",
      "└ @ Base loading.jl:1260\n",
      "┌ Info: Precompiling MLDataUtils [cc2ba9b6-d476-5e6d-8eaf-a92d5412d41d]\n",
      "└ @ Base loading.jl:1260\n"
     ]
    }
   ],
   "source": [
    "using GLM, RDatasets, MLDataUtils"
   ]
  },
  {
   "cell_type": "markdown",
   "metadata": {},
   "source": [
    "## 讀取資料"
   ]
  },
  {
   "cell_type": "code",
   "execution_count": 31,
   "metadata": {},
   "outputs": [
    {
     "data": {
      "text/html": [
       "<table class=\"data-frame\"><thead><tr><th></th><th>Crim</th><th>NOx</th><th>Rm</th><th>Age</th><th>Dis</th><th>Rad</th><th>PTRatio</th><th>Black</th><th>LStat</th><th>MedV</th></tr><tr><th></th><th>Float64</th><th>Float64</th><th>Float64</th><th>Float64</th><th>Float64</th><th>Int64</th><th>Float64</th><th>Float64</th><th>Float64</th><th>Float64</th></tr></thead><tbody><p>10 rows × 10 columns</p><tr><th>1</th><td>0.00632</td><td>0.538</td><td>6.575</td><td>65.2</td><td>4.09</td><td>1</td><td>15.3</td><td>396.9</td><td>4.98</td><td>24.0</td></tr><tr><th>2</th><td>0.02731</td><td>0.469</td><td>6.421</td><td>78.9</td><td>4.9671</td><td>2</td><td>17.8</td><td>396.9</td><td>9.14</td><td>21.6</td></tr><tr><th>3</th><td>0.02729</td><td>0.469</td><td>7.185</td><td>61.1</td><td>4.9671</td><td>2</td><td>17.8</td><td>392.83</td><td>4.03</td><td>34.7</td></tr><tr><th>4</th><td>0.03237</td><td>0.458</td><td>6.998</td><td>45.8</td><td>6.0622</td><td>3</td><td>18.7</td><td>394.63</td><td>2.94</td><td>33.4</td></tr><tr><th>5</th><td>0.06905</td><td>0.458</td><td>7.147</td><td>54.2</td><td>6.0622</td><td>3</td><td>18.7</td><td>396.9</td><td>5.33</td><td>36.2</td></tr><tr><th>6</th><td>0.02985</td><td>0.458</td><td>6.43</td><td>58.7</td><td>6.0622</td><td>3</td><td>18.7</td><td>394.12</td><td>5.21</td><td>28.7</td></tr><tr><th>7</th><td>0.08829</td><td>0.524</td><td>6.012</td><td>66.6</td><td>5.5605</td><td>5</td><td>15.2</td><td>395.6</td><td>12.43</td><td>22.9</td></tr><tr><th>8</th><td>0.14455</td><td>0.524</td><td>6.172</td><td>96.1</td><td>5.9505</td><td>5</td><td>15.2</td><td>396.9</td><td>19.15</td><td>27.1</td></tr><tr><th>9</th><td>0.21124</td><td>0.524</td><td>5.631</td><td>100.0</td><td>6.0821</td><td>5</td><td>15.2</td><td>386.63</td><td>29.93</td><td>16.5</td></tr><tr><th>10</th><td>0.17004</td><td>0.524</td><td>6.004</td><td>85.9</td><td>6.5921</td><td>5</td><td>15.2</td><td>386.71</td><td>17.1</td><td>18.9</td></tr></tbody></table>"
      ],
      "text/latex": [
       "\\begin{tabular}{r|cccccccccc}\n",
       "\t& Crim & NOx & Rm & Age & Dis & Rad & PTRatio & Black & LStat & MedV\\\\\n",
       "\t\\hline\n",
       "\t& Float64 & Float64 & Float64 & Float64 & Float64 & Int64 & Float64 & Float64 & Float64 & Float64\\\\\n",
       "\t\\hline\n",
       "\t1 & 0.00632 & 0.538 & 6.575 & 65.2 & 4.09 & 1 & 15.3 & 396.9 & 4.98 & 24.0 \\\\\n",
       "\t2 & 0.02731 & 0.469 & 6.421 & 78.9 & 4.9671 & 2 & 17.8 & 396.9 & 9.14 & 21.6 \\\\\n",
       "\t3 & 0.02729 & 0.469 & 7.185 & 61.1 & 4.9671 & 2 & 17.8 & 392.83 & 4.03 & 34.7 \\\\\n",
       "\t4 & 0.03237 & 0.458 & 6.998 & 45.8 & 6.0622 & 3 & 18.7 & 394.63 & 2.94 & 33.4 \\\\\n",
       "\t5 & 0.06905 & 0.458 & 7.147 & 54.2 & 6.0622 & 3 & 18.7 & 396.9 & 5.33 & 36.2 \\\\\n",
       "\t6 & 0.02985 & 0.458 & 6.43 & 58.7 & 6.0622 & 3 & 18.7 & 394.12 & 5.21 & 28.7 \\\\\n",
       "\t7 & 0.08829 & 0.524 & 6.012 & 66.6 & 5.5605 & 5 & 15.2 & 395.6 & 12.43 & 22.9 \\\\\n",
       "\t8 & 0.14455 & 0.524 & 6.172 & 96.1 & 5.9505 & 5 & 15.2 & 396.9 & 19.15 & 27.1 \\\\\n",
       "\t9 & 0.21124 & 0.524 & 5.631 & 100.0 & 6.0821 & 5 & 15.2 & 386.63 & 29.93 & 16.5 \\\\\n",
       "\t10 & 0.17004 & 0.524 & 6.004 & 85.9 & 6.5921 & 5 & 15.2 & 386.71 & 17.1 & 18.9 \\\\\n",
       "\\end{tabular}\n"
      ],
      "text/plain": [
       "10×10 DataFrame. Omitted printing of 3 columns\n",
       "│ Row │ Crim    │ NOx     │ Rm      │ Age     │ Dis     │ Rad   │ PTRatio │\n",
       "│     │ \u001b[90mFloat64\u001b[39m │ \u001b[90mFloat64\u001b[39m │ \u001b[90mFloat64\u001b[39m │ \u001b[90mFloat64\u001b[39m │ \u001b[90mFloat64\u001b[39m │ \u001b[90mInt64\u001b[39m │ \u001b[90mFloat64\u001b[39m │\n",
       "├─────┼─────────┼─────────┼─────────┼─────────┼─────────┼───────┼─────────┤\n",
       "│ 1   │ 0.00632 │ 0.538   │ 6.575   │ 65.2    │ 4.09    │ 1     │ 15.3    │\n",
       "│ 2   │ 0.02731 │ 0.469   │ 6.421   │ 78.9    │ 4.9671  │ 2     │ 17.8    │\n",
       "│ 3   │ 0.02729 │ 0.469   │ 7.185   │ 61.1    │ 4.9671  │ 2     │ 17.8    │\n",
       "│ 4   │ 0.03237 │ 0.458   │ 6.998   │ 45.8    │ 6.0622  │ 3     │ 18.7    │\n",
       "│ 5   │ 0.06905 │ 0.458   │ 7.147   │ 54.2    │ 6.0622  │ 3     │ 18.7    │\n",
       "│ 6   │ 0.02985 │ 0.458   │ 6.43    │ 58.7    │ 6.0622  │ 3     │ 18.7    │\n",
       "│ 7   │ 0.08829 │ 0.524   │ 6.012   │ 66.6    │ 5.5605  │ 5     │ 15.2    │\n",
       "│ 8   │ 0.14455 │ 0.524   │ 6.172   │ 96.1    │ 5.9505  │ 5     │ 15.2    │\n",
       "│ 9   │ 0.21124 │ 0.524   │ 5.631   │ 100.0   │ 6.0821  │ 5     │ 15.2    │\n",
       "│ 10  │ 0.17004 │ 0.524   │ 6.004   │ 85.9    │ 6.5921  │ 5     │ 15.2    │"
      ]
     },
     "execution_count": 31,
     "metadata": {},
     "output_type": "execute_result"
    }
   ],
   "source": [
    "boston = dataset(\"MASS\", \"Boston\")\n",
    "select!(boston, Not(:Zn))\n",
    "select!(boston, Not(:Chas))\n",
    "select!(boston, Not(:Indus))\n",
    "select!(boston, Not(:Tax))\n",
    "first(boston, 10)"
   ]
  },
  {
   "cell_type": "code",
   "execution_count": 38,
   "metadata": {},
   "outputs": [
    {
     "data": {
      "text/plain": [
       "StatsModels.TableRegressionModel{LinearModel{GLM.LmResp{Array{Float64,1}},GLM.DensePredChol{Float64,LinearAlgebra.Cholesky{Float64,Array{Float64,2}}}},Array{Float64,2}}\n",
       "\n",
       "MedV ~ 1 + Crim\n",
       "\n",
       "Coefficients:\n",
       "────────────────────────────────────────────────────────────────────────\n",
       "                Coef.  Std. Error      t  Pr(>|t|)  Lower 95%  Upper 95%\n",
       "────────────────────────────────────────────────────────────────────────\n",
       "(Intercept)  24.0331    0.409142   58.74    <1e-99  23.2293     24.8369\n",
       "Crim         -0.41519   0.0438904  -9.46    <1e-18  -0.501421   -0.32896\n",
       "────────────────────────────────────────────────────────────────────────"
      ]
     },
     "execution_count": 38,
     "metadata": {},
     "output_type": "execute_result"
    }
   ],
   "source": [
    "model = GLM.lm(@formula(MedV~Crim),boston)"
   ]
  },
  {
   "cell_type": "code",
   "execution_count": 39,
   "metadata": {},
   "outputs": [
    {
     "data": {
      "text/plain": [
       "506-element Array{Float64,1}:\n",
       "  24.030482171567456\n",
       "  24.02934455020597\n",
       "  24.02855568867793\n",
       "  24.027704548608206\n",
       "  24.027663029580413\n",
       "  24.027459586344236\n",
       "  24.02737239638587\n",
       "  24.027160649344136\n",
       "  24.02713158602468\n",
       "  24.026874168052373\n",
       "  24.026874168052373\n",
       "  24.026720547649546\n",
       "  24.026010572274313\n",
       "   ⋮\n",
       "  13.735681458357162\n",
       "  13.634208954434714\n",
       "  13.262821250839664\n",
       "  12.135496608244608\n",
       "   8.396251446313505\n",
       "   8.109811673579886\n",
       "   6.790586084532471\n",
       "   5.039770201592326\n",
       "   2.802019160713357\n",
       "  -4.166949654091447\n",
       "  -6.4975372411122265\n",
       " -12.908947031704862"
      ]
     },
     "execution_count": 39,
     "metadata": {},
     "output_type": "execute_result"
    }
   ],
   "source": [
    "predict(model)"
   ]
  }
 ],
 "metadata": {
  "kernelspec": {
   "display_name": "Julia 1.4.2",
   "language": "julia",
   "name": "julia-1.4"
  },
  "language_info": {
   "file_extension": ".jl",
   "mimetype": "application/julia",
   "name": "julia",
   "version": "1.4.2"
  }
 },
 "nbformat": 4,
 "nbformat_minor": 4
}
