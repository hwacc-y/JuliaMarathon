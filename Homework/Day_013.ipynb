{
 "cells": [
  {
   "cell_type": "markdown",
   "metadata": {},
   "source": [
    "## Day 013 作業1：用 Julia 標準函式寫 Sigmoid Function\n",
    "\n",
    "在 Day 002 時我們曾用 LaTeX 撰寫機器學習常見的激活函式 Sigmoid\n",
    "\n",
    "$\\Large f(x)=\\frac{1}{1+e^{-x}}$\n",
    "\n",
    "作業 1 請使用內建函式 `exp()` 來撰寫 Sigmoid 函式，計算矩陣的 sigmoid 值。"
   ]
  },
  {
   "cell_type": "markdown",
   "metadata": {},
   "source": [
    "例如：數字 3 的 sigmoid 值。"
   ]
  },
  {
   "cell_type": "code",
   "execution_count": 1,
   "metadata": {},
   "outputs": [
    {
     "data": {
      "text/plain": [
       "0.9525741268224334"
      ]
     },
     "execution_count": 1,
     "metadata": {},
     "output_type": "execute_result"
    }
   ],
   "source": [
    "1 / (1 + exp(-3))"
   ]
  },
  {
   "cell_type": "markdown",
   "metadata": {},
   "source": [
    "宣告及建立矩陣"
   ]
  },
  {
   "cell_type": "code",
   "execution_count": 2,
   "metadata": {},
   "outputs": [
    {
     "data": {
      "text/plain": [
       "3×5 Array{Int64,2}:\n",
       " 1  10  3  4   6\n",
       " 4   2  4  5  10\n",
       " 8   5  3  5   9"
      ]
     },
     "execution_count": 2,
     "metadata": {},
     "output_type": "execute_result"
    }
   ],
   "source": [
    "A = Matrix([1 10 3 4 6; 4 2 4 5 10; 8 5 3 5 9])"
   ]
  },
  {
   "cell_type": "code",
   "execution_count": 3,
   "metadata": {},
   "outputs": [
    {
     "name": "stdout",
     "output_type": "stream",
     "text": [
      "[0.7310585786300049 0.9999546021312976 0.9525741268224334 0.9820137900379085 0.9975273768433653; 0.9820137900379085 0.8807970779778823 0.9820137900379085 0.9933071490757153 0.9999546021312976; 0.9996646498695336 0.9933071490757153 0.9525741268224334 0.9933071490757153 0.9998766054240137]\n"
     ]
    }
   ],
   "source": [
    "# 請在此撰寫計算 sigmoid\n",
    "A=convert(Array{Float64}, A)\n",
    "for int in eachindex(A)\n",
    "    A[int] = 1 / (1 + exp(-(A[int])))\n",
    "end\n",
    "println(A)"
   ]
  },
  {
   "cell_type": "markdown",
   "metadata": {},
   "source": [
    "## 作業2：線性代數基礎運算 Matrix Multiplication 及 Addition\n",
    "\n",
    "假設 A 是 $n\\times m$ 的矩陣，B 是 $m\\times p$ 的矩陣，則矩陣乘法的積 AB 是 $\\displaystyle n\\times p$ 的矩陣。\n",
    "\n",
    "作業2 請撰寫程式，隨機產生矩陣 $W$ 及 $X$，計算線性方程式 $WX+b$。\n",
    "\n",
    "【提示】點運算的介紹，可回顧 Day 005 內容及範例。"
   ]
  },
  {
   "cell_type": "code",
   "execution_count": 33,
   "metadata": {},
   "outputs": [
    {
     "data": {
      "text/plain": [
       "1"
      ]
     },
     "execution_count": 33,
     "metadata": {},
     "output_type": "execute_result"
    }
   ],
   "source": [
    "# 給定 bias 變數值\n",
    "# 這邊給定的是純量，在矩陣加法中透過 broadcasting 進行加法\n",
    "b = 1"
   ]
  },
  {
   "cell_type": "code",
   "execution_count": 28,
   "metadata": {},
   "outputs": [
    {
     "data": {
      "text/plain": [
       "0x76c4"
      ]
     },
     "execution_count": 28,
     "metadata": {},
     "output_type": "execute_result"
    }
   ],
   "source": [
    "row = rand(UInt16)\n",
    "col = rand(UInt16)"
   ]
  },
  {
   "cell_type": "code",
   "execution_count": 31,
   "metadata": {},
   "outputs": [],
   "source": [
    "# 請在此撰寫程式\n",
    "w = zeros(row,col)\n",
    "for num in eachindex(w)\n",
    "    w[num] = rand(UInt16)\n",
    "end"
   ]
  },
  {
   "cell_type": "code",
   "execution_count": 35,
   "metadata": {},
   "outputs": [],
   "source": [
    "# 請在此撰寫程式\n",
    "X = zeros(col,row)\n",
    "for num in eachindex(X)\n",
    "    X[num] = rand(UInt16)\n",
    "end"
   ]
  },
  {
   "cell_type": "code",
   "execution_count": 37,
   "metadata": {},
   "outputs": [
    {
     "data": {
      "text/plain": [
       "4696×4696 Array{Float64,2}:\n",
       " 3.24954e13  3.26223e13  3.25388e13  …  3.24451e13  3.22214e13  3.23966e13\n",
       " 3.25942e13  3.2843e13   3.26296e13     3.25415e13  3.24104e13  3.25497e13\n",
       " 3.28773e13  3.31052e13  3.28509e13     3.28785e13  3.26304e13  3.28025e13\n",
       " 3.25144e13  3.25722e13  3.25056e13     3.23819e13  3.22389e13  3.25124e13\n",
       " 3.26744e13  3.28431e13  3.26718e13     3.27223e13  3.24898e13  3.28454e13\n",
       " 3.24152e13  3.26513e13  3.25814e13  …  3.2528e13   3.22222e13  3.25361e13\n",
       " 3.27394e13  3.28431e13  3.27944e13     3.26019e13  3.24837e13  3.27046e13\n",
       " 3.26579e13  3.27118e13  3.26325e13     3.25988e13  3.2363e13   3.26814e13\n",
       " 3.27278e13  3.26406e13  3.26737e13     3.2716e13   3.23126e13  3.25234e13\n",
       " 3.27872e13  3.27658e13  3.26198e13     3.26473e13  3.24275e13  3.27987e13\n",
       " 3.23694e13  3.25282e13  3.23331e13  …  3.23373e13  3.21039e13  3.22984e13\n",
       " 3.26677e13  3.27371e13  3.27778e13     3.25654e13  3.24694e13  3.26632e13\n",
       " 3.26624e13  3.29981e13  3.28356e13     3.27838e13  3.25233e13  3.28455e13\n",
       " ⋮                                   ⋱                          ⋮\n",
       " 3.26374e13  3.272e13    3.27178e13     3.2459e13   3.23585e13  3.27058e13\n",
       " 3.25583e13  3.2843e13   3.26436e13  …  3.26367e13  3.2501e13   3.2643e13\n",
       " 3.26872e13  3.26168e13  3.25519e13     3.24598e13  3.24063e13  3.26544e13\n",
       " 3.273e13    3.29334e13  3.2786e13      3.27111e13  3.25058e13  3.28038e13\n",
       " 3.26296e13  3.28415e13  3.27305e13     3.26805e13  3.24872e13  3.28456e13\n",
       " 3.27918e13  3.27199e13  3.28891e13     3.27746e13  3.24932e13  3.27567e13\n",
       " 3.2688e13   3.26093e13  3.25607e13  …  3.26718e13  3.24139e13  3.26006e13\n",
       " 3.25367e13  3.25422e13  3.24395e13     3.24215e13  3.22628e13  3.25157e13\n",
       " 3.28412e13  3.29328e13  3.27707e13     3.28158e13  3.25076e13  3.29556e13\n",
       " 3.26148e13  3.26773e13  3.25816e13     3.26179e13  3.2417e13   3.27328e13\n",
       " 3.23496e13  3.25654e13  3.25416e13     3.25199e13  3.22721e13  3.23871e13\n",
       " 3.26679e13  3.273e13    3.26421e13  …  3.25414e13  3.23893e13  3.25869e13"
      ]
     },
     "execution_count": 37,
     "metadata": {},
     "output_type": "execute_result"
    }
   ],
   "source": [
    "# 請在此撰寫計算線性方程式\n",
    "W_X = (w*X)\n",
    "b_matrix = zeros(row,row)\n",
    "for num in eachindex(b_matrix)\n",
    "    b_matrix[num] = b\n",
    "end\n",
    "W_X_b = W_X+b_matrix"
   ]
  },
  {
   "cell_type": "code",
   "execution_count": null,
   "metadata": {},
   "outputs": [],
   "source": []
  }
 ],
 "metadata": {
  "kernelspec": {
   "display_name": "Julia 1.4.2",
   "language": "julia",
   "name": "julia-1.4"
  },
  "language_info": {
   "file_extension": ".jl",
   "mimetype": "application/julia",
   "name": "julia",
   "version": "1.4.2"
  }
 },
 "nbformat": 4,
 "nbformat_minor": 4
}
