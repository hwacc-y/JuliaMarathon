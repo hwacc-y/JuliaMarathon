{
 "cells": [
  {
   "cell_type": "code",
   "execution_count": 7,
   "metadata": {},
   "outputs": [
    {
     "name": "stdout",
     "output_type": "stream",
     "text": [
      "-9223372036854775808\n",
      "9223372036854775807\n",
      "-Inf\n",
      "Inf\n"
     ]
    }
   ],
   "source": [
    "println(typemin(Int64))\n",
    "println(typemax(Int64))\n",
    "println(typemin(Float64))\n",
    "println(typemax(Float64))"
   ]
  },
  {
   "cell_type": "code",
   "execution_count": 8,
   "metadata": {},
   "outputs": [
    {
     "name": "stdout",
     "output_type": "stream",
     "text": [
      "-170141183460469231731687303715884105728\n",
      "170141183460469231731687303715884105727\n",
      "-2147483648\n",
      "2147483647\n",
      "-32768\n",
      "32767\n",
      "0\n",
      "4294967295\n",
      "0\n",
      "340282366920938463463374607431768211455\n",
      "0\n",
      "18446744073709551615\n",
      "0\n",
      "65535\n",
      "0\n",
      "255\n",
      "-128\n",
      "127\n"
     ]
    }
   ],
   "source": [
    "println(typemin(Int128))\n",
    "println(typemax(Int128))\n",
    "\n",
    "println(typemin(Int32))\n",
    "println(typemax(Int32))\n",
    "\n",
    "println(typemin(Int16))\n",
    "println(typemax(Int16))\n",
    "\n",
    "println(typemin(UInt32))\n",
    "println(typemax(UInt32))\n",
    "\n",
    "println(typemin(UInt128))\n",
    "println(typemax(UInt128))\n",
    "\n",
    "println(typemin(UInt64))\n",
    "println(typemax(UInt64))\n",
    "\n",
    "println(typemin(UInt16))\n",
    "println(typemax(UInt16))\n",
    "\n",
    "println(typemin(UInt8))\n",
    "println(typemax(UInt8))\n",
    "\n",
    "println(typemin(Int8))\n",
    "println(typemax(Int8))\n"
   ]
  },
  {
   "cell_type": "code",
   "execution_count": 9,
   "metadata": {},
   "outputs": [
    {
     "name": "stdout",
     "output_type": "stream",
     "text": [
      "-Inf\n",
      "Inf\n",
      "-Inf\n",
      "Inf\n"
     ]
    }
   ],
   "source": [
    "println(typemin(Float16))\n",
    "println(typemax(Float16))\n",
    "println(typemin(Float32))\n",
    "println(typemax(Float32))"
   ]
  },
  {
   "cell_type": "code",
   "execution_count": null,
   "metadata": {},
   "outputs": [],
   "source": []
  }
 ],
 "metadata": {
  "kernelspec": {
   "display_name": "Julia 1.2.0",
   "language": "julia",
   "name": "julia-1.2"
  },
  "language_info": {
   "file_extension": ".jl",
   "mimetype": "application/julia",
   "name": "julia",
   "version": "1.2.0"
  }
 },
 "nbformat": 4,
 "nbformat_minor": 4
}
