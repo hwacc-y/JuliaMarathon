{
 "cells": [
  {
   "cell_type": "markdown",
   "metadata": {
    "colab_type": "text",
    "id": "2X-9mXIwlD2v"
   },
   "source": [
    "# DataFrames.jl 介紹 (二): Joins 與 Split-Apply-Combine Strategy\n",
    "\n",
    "## Day 018 作業1：The Split-Apply-Combine Strategy\n",
    "\n",
    "同 Day 017，請載入 2020/4/2 COVID-19 Daily Report 資料集，計算每個國家/地區的累計確診人數，並列出所有資料筆數。"
   ]
  },
  {
   "cell_type": "code",
   "execution_count": 3,
   "metadata": {
    "colab": {},
    "colab_type": "code",
    "id": "jw9JRWRilD2w"
   },
   "outputs": [],
   "source": [
    "using DataFrames, CSV"
   ]
  },
  {
   "cell_type": "code",
   "execution_count": 4,
   "metadata": {
    "colab": {},
    "colab_type": "code",
    "id": "yYc3lmgzlD22",
    "outputId": "7b405ad5-8c9c-4214-b100-40a6f3febe51"
   },
   "outputs": [
    {
     "ename": "ArgumentError",
     "evalue": "ArgumentError: \"04-02-2020.csv\" is not a valid file",
     "output_type": "error",
     "traceback": [
      "ArgumentError: \"04-02-2020.csv\" is not a valid file",
      "",
      "Stacktrace:",
      " [1] CSV.Header(::String, ::Int64, ::Bool, ::Int64, ::Nothing, ::Int64, ::Int64, ::Bool, ::Nothing, ::Bool, ::Bool, ::Nothing, ::Nothing, ::Nothing, ::Array{String,1}, ::String, ::Nothing, ::Bool, ::Char, ::Nothing, ::Nothing, ::Char, ::Nothing, ::Nothing, ::UInt8, ::Array{String,1}, ::Array{String,1}, ::Nothing, ::Nothing, ::Dict{Int8,Int8}, ::Bool, ::Float64, ::Bool, ::Bool, ::Bool, ::Bool, ::Bool) at C:\\Users\\user\\.julia\\packages\\CSV\\vyG0T\\src\\header.jl:84",
      " [2] CSV.File(::String; header::Int64, normalizenames::Bool, datarow::Int64, skipto::Nothing, footerskip::Int64, limit::Int64, transpose::Bool, comment::Nothing, use_mmap::Bool, ignoreemptylines::Bool, threaded::Nothing, select::Nothing, drop::Nothing, missingstrings::Array{String,1}, missingstring::String, delim::Nothing, ignorerepeated::Bool, quotechar::Char, openquotechar::Nothing, closequotechar::Nothing, escapechar::Char, dateformat::Nothing, dateformats::Nothing, decimal::UInt8, truestrings::Array{String,1}, falsestrings::Array{String,1}, type::Nothing, types::Nothing, typemap::Dict{Int8,Int8}, categorical::Bool, pool::Float64, strict::Bool, silencewarnings::Bool, debug::Bool, parsingdebug::Bool) at C:\\Users\\user\\.julia\\packages\\CSV\\vyG0T\\src\\file.jl:210",
      " [3] CSV.File(::String) at C:\\Users\\user\\.julia\\packages\\CSV\\vyG0T\\src\\file.jl:210",
      " [4] #read#84 at C:\\Users\\user\\.julia\\packages\\CSV\\vyG0T\\src\\CSV.jl:41 [inlined]",
      " [5] read(::String) at C:\\Users\\user\\.julia\\packages\\CSV\\vyG0T\\src\\CSV.jl:41",
      " [6] top-level scope at In[4]:1"
     ]
    }
   ],
   "source": [
    "df = CSV.read(\"04-02-2020.csv\")"
   ]
  },
  {
   "cell_type": "markdown",
   "metadata": {
    "colab_type": "text",
    "id": "Pw8WALcSlD28"
   },
   "source": [
    "計算計算每個國家/地區的累計確診人數\n",
    "\n",
    "【提示】可使用 groupby 相關的函式"
   ]
  },
  {
   "cell_type": "code",
   "execution_count": 31,
   "metadata": {
    "colab": {},
    "colab_type": "code",
    "id": "OPoCjf98lD29"
   },
   "outputs": [
    {
     "data": {
      "text/html": [
       "<p><b>GroupedDataFrame with 181 groups based on key: Country_Region</b></p><p><i>First Group (1 row): Country_Region = \"Afghanistan\"</i></p><table class=\"data-frame\"><thead><tr><th></th><th>Province_State</th><th>Country_Region</th><th>Last_Update</th><th>Confirmed</th><th>Deaths</th><th>Recovered</th></tr><tr><th></th><th>String?</th><th>String</th><th>String</th><th>Int64</th><th>Int64</th><th>Int64</th></tr></thead><tbody><tr><th>1</th><td><em>missing</em></td><td>Afghanistan</td><td>2020-04-02 23:25:14</td><td>273</td><td>6</td><td>10</td></tr></tbody></table><p>&vellip;</p><p><i>Last Group (1 row): Country_Region = \"Zimbabwe\"</i></p><table class=\"data-frame\"><thead><tr><th></th><th>Province_State</th><th>Country_Region</th><th>Last_Update</th><th>Confirmed</th><th>Deaths</th><th>Recovered</th></tr><tr><th></th><th>String?</th><th>String</th><th>String</th><th>Int64</th><th>Int64</th><th>Int64</th></tr></thead><tbody><tr><th>1</th><td><em>missing</em></td><td>Zimbabwe</td><td>2020-04-02 23:25:14</td><td>9</td><td>1</td><td>0</td></tr></tbody></table>"
      ],
      "text/latex": [
       "GroupedDataFrame with 181 groups based on key: Country\\_Region\n",
       "\n",
       "First Group (1 row): Country\\_Region = \"Afghanistan\"\n",
       "\n",
       "\\begin{tabular}{r|ccccccc}\n",
       "\t& Province\\_State & Country\\_Region & Last\\_Update & Confirmed & Deaths & Recovered & \\\\\n",
       "\t\\hline\n",
       "\t& String? & String & String & Int64 & Int64 & Int64 & \\\\\n",
       "\t\\hline\n",
       "\t1 & \\emph{missing} & Afghanistan & 2020-04-02 23:25:14 & 273 & 6 & 10 & $\\dots$ \\\\\n",
       "\\end{tabular}\n",
       "\n",
       "$\\dots$\n",
       "\n",
       "Last Group (1 row): Country\\_Region = \"Zimbabwe\"\n",
       "\n",
       "\\begin{tabular}{r|ccccccc}\n",
       "\t& Province\\_State & Country\\_Region & Last\\_Update & Confirmed & Deaths & Recovered & \\\\\n",
       "\t\\hline\n",
       "\t& String? & String & String & Int64 & Int64 & Int64 & \\\\\n",
       "\t\\hline\n",
       "\t1 & \\emph{missing} & Zimbabwe & 2020-04-02 23:25:14 & 9 & 1 & 0 & $\\dots$ \\\\\n",
       "\\end{tabular}\n"
      ],
      "text/plain": [
       "GroupedDataFrame with 181 groups based on key: Country_Region\n",
       "First Group (1 row): Country_Region = \"Afghanistan\". Omitted printing of 4 columns\n",
       "│ Row │ Province_State │ Country_Region │ Last_Update         │ Confirmed │\n",
       "│     │ \u001b[90mString?\u001b[39m        │ \u001b[90mString\u001b[39m         │ \u001b[90mString\u001b[39m              │ \u001b[90mInt64\u001b[39m     │\n",
       "├─────┼────────────────┼────────────────┼─────────────────────┼───────────┤\n",
       "│ 1   │ \u001b[90mmissing\u001b[39m        │ Afghanistan    │ 2020-04-02 23:25:14 │ 273       │\n",
       "⋮\n",
       "Last Group (1 row): Country_Region = \"Zimbabwe\". Omitted printing of 4 columns\n",
       "│ Row │ Province_State │ Country_Region │ Last_Update         │ Confirmed │\n",
       "│     │ \u001b[90mString?\u001b[39m        │ \u001b[90mString\u001b[39m         │ \u001b[90mString\u001b[39m              │ \u001b[90mInt64\u001b[39m     │\n",
       "├─────┼────────────────┼────────────────┼─────────────────────┼───────────┤\n",
       "│ 1   │ \u001b[90mmissing\u001b[39m        │ Zimbabwe       │ 2020-04-02 23:25:14 │ 9         │"
      ]
     },
     "execution_count": 31,
     "metadata": {},
     "output_type": "execute_result"
    }
   ],
   "source": [
    " x= groupby(df,[\"Country_Region\"], sort=true, skipmissing=true)"
   ]
  },
  {
   "cell_type": "code",
   "execution_count": 41,
   "metadata": {
    "colab": {},
    "colab_type": "code",
    "id": "habhL6illD3B"
   },
   "outputs": [
    {
     "name": "stdout",
     "output_type": "stream",
     "text": [
      "GroupedDataFrame with 181 groups based on key: Country_Region\n",
      "First Group (1 row): Country_Region = \"Afghanistan\"\n",
      "│ Row │ Province_State │ Country_Region │ Last_Update         │ Confirmed │ Deaths │ Recovered │ Active │ Combined_Key │\n",
      "│     │ \u001b[90mString?\u001b[39m        │ \u001b[90mString\u001b[39m         │ \u001b[90mString\u001b[39m              │ \u001b[90mInt64\u001b[39m     │ \u001b[90mInt64\u001b[39m  │ \u001b[90mInt64\u001b[39m     │ \u001b[90mInt64\u001b[39m  │ \u001b[90mString\u001b[39m       │\n",
      "├─────┼────────────────┼────────────────┼─────────────────────┼───────────┼────────┼───────────┼────────┼──────────────┤\n",
      "│ 1   │ \u001b[90mmissing\u001b[39m        │ Afghanistan    │ 2020-04-02 23:25:14 │ 273       │ 6      │ 10        │ 257    │ Afghanistan  │\n",
      "⋮\n",
      "Last Group (1 row): Country_Region = \"Zimbabwe\"\n",
      "│ Row │ Province_State │ Country_Region │ Last_Update         │ Confirmed │ Deaths │ Recovered │ Active │ Combined_Key │\n",
      "│     │ \u001b[90mString?\u001b[39m        │ \u001b[90mString\u001b[39m         │ \u001b[90mString\u001b[39m              │ \u001b[90mInt64\u001b[39m     │ \u001b[90mInt64\u001b[39m  │ \u001b[90mInt64\u001b[39m     │ \u001b[90mInt64\u001b[39m  │ \u001b[90mString\u001b[39m       │\n",
      "├─────┼────────────────┼────────────────┼─────────────────────┼───────────┼────────┼───────────┼────────┼──────────────┤\n",
      "│ 1   │ \u001b[90mmissing\u001b[39m        │ Zimbabwe       │ 2020-04-02 23:25:14 │ 9         │ 1      │ 0         │ 8      │ Zimbabwe     │"
     ]
    }
   ],
   "source": [
    "# 顯示所有資料\n",
    "show(x)"
   ]
  },
  {
   "cell_type": "markdown",
   "metadata": {
    "colab_type": "text",
    "id": "2ye5nBbjlD3G"
   },
   "source": [
    "## 作業2：請列出美國各區域或事件 (依 Province_State 欄) 的累積確診、死亡、康復人數。\n",
    "\n",
    "【提示】使用 Split-Apply-Combine Strategy 時，有幾種不同的函式可以使用，請參照 `DataFrames.jl` 官方文件 [https://juliadata.github.io/DataFrames.jl/stable/lib/functions/#DataFrames.groupby](https://juliadata.github.io/DataFrames.jl/stable/lib/functions/#DataFrames.groupby)"
   ]
  },
  {
   "cell_type": "code",
   "execution_count": 44,
   "metadata": {
    "colab": {},
    "colab_type": "code",
    "id": "wDmhNGHWlD3H"
   },
   "outputs": [
    {
     "data": {
      "text/html": [
       "<p><b>GroupedDataFrame with 58 groups based on key: Province_State</b></p><p><i>First Group (64 rows): Province_State = \"Alabama\"</i></p><table class=\"data-frame\"><thead><tr><th></th><th>Province_State</th><th>Country_Region</th><th>Last_Update</th><th>Confirmed</th><th>Deaths</th><th>Recovered</th></tr><tr><th></th><th>String?</th><th>String</th><th>String</th><th>Int64</th><th>Int64</th><th>Int64</th></tr></thead><tbody><tr><th>1</th><td>Alabama</td><td>US</td><td>2020-04-02 23:25:27</td><td>10</td><td>0</td><td>0</td></tr><tr><th>2</th><td>Alabama</td><td>US</td><td>2020-04-02 23:25:27</td><td>24</td><td>1</td><td>0</td></tr><tr><th>3</th><td>Alabama</td><td>US</td><td>2020-04-02 23:25:27</td><td>4</td><td>0</td><td>0</td></tr><tr><th>4</th><td>Alabama</td><td>US</td><td>2020-04-02 23:25:27</td><td>6</td><td>0</td><td>0</td></tr><tr><th>5</th><td>Alabama</td><td>US</td><td>2020-04-02 23:25:27</td><td>2</td><td>0</td><td>0</td></tr><tr><th>6</th><td>Alabama</td><td>US</td><td>2020-04-02 23:25:27</td><td>1</td><td>0</td><td>0</td></tr><tr><th>7</th><td>Alabama</td><td>US</td><td>2020-04-02 23:25:27</td><td>12</td><td>0</td><td>0</td></tr><tr><th>8</th><td>Alabama</td><td>US</td><td>2020-04-02 23:25:27</td><td>67</td><td>4</td><td>0</td></tr><tr><th>9</th><td>Alabama</td><td>US</td><td>2020-04-02 23:25:27</td><td>4</td><td>0</td><td>0</td></tr><tr><th>10</th><td>Alabama</td><td>US</td><td>2020-04-02 23:25:27</td><td>14</td><td>0</td><td>0</td></tr><tr><th>11</th><td>Alabama</td><td>US</td><td>2020-04-02 23:25:27</td><td>4</td><td>0</td><td>0</td></tr><tr><th>12</th><td>Alabama</td><td>US</td><td>2020-04-02 23:25:27</td><td>2</td><td>0</td><td>0</td></tr><tr><th>13</th><td>Alabama</td><td>US</td><td>2020-04-02 23:25:27</td><td>6</td><td>0</td><td>0</td></tr><tr><th>14</th><td>Alabama</td><td>US</td><td>2020-04-02 23:25:27</td><td>6</td><td>0</td><td>0</td></tr><tr><th>15</th><td>Alabama</td><td>US</td><td>2020-04-02 23:25:27</td><td>1</td><td>0</td><td>0</td></tr><tr><th>16</th><td>Alabama</td><td>US</td><td>2020-04-02 23:25:27</td><td>5</td><td>0</td><td>0</td></tr><tr><th>17</th><td>Alabama</td><td>US</td><td>2020-04-02 23:25:27</td><td>1</td><td>0</td><td>0</td></tr><tr><th>18</th><td>Alabama</td><td>US</td><td>2020-04-02 23:25:27</td><td>5</td><td>0</td><td>0</td></tr><tr><th>19</th><td>Alabama</td><td>US</td><td>2020-04-02 23:25:27</td><td>3</td><td>0</td><td>0</td></tr><tr><th>20</th><td>Alabama</td><td>US</td><td>2020-04-02 23:25:27</td><td>1</td><td>0</td><td>0</td></tr><tr><th>21</th><td>Alabama</td><td>US</td><td>2020-04-02 23:25:27</td><td>9</td><td>1</td><td>0</td></tr><tr><th>22</th><td>Alabama</td><td>US</td><td>2020-04-02 23:25:27</td><td>1</td><td>0</td><td>0</td></tr><tr><th>23</th><td>Alabama</td><td>US</td><td>2020-04-02 23:25:27</td><td>4</td><td>0</td><td>0</td></tr><tr><th>24</th><td>Alabama</td><td>US</td><td>2020-04-02 23:25:27</td><td>8</td><td>0</td><td>0</td></tr><tr><th>25</th><td>Alabama</td><td>US</td><td>2020-04-02 23:25:27</td><td>17</td><td>0</td><td>0</td></tr><tr><th>26</th><td>Alabama</td><td>US</td><td>2020-04-02 23:25:27</td><td>2</td><td>0</td><td>0</td></tr><tr><th>27</th><td>Alabama</td><td>US</td><td>2020-04-02 23:25:27</td><td>13</td><td>1</td><td>0</td></tr><tr><th>28</th><td>Alabama</td><td>US</td><td>2020-04-02 23:25:27</td><td>1</td><td>0</td><td>0</td></tr><tr><th>29</th><td>Alabama</td><td>US</td><td>2020-04-02 23:25:27</td><td>4</td><td>0</td><td>0</td></tr><tr><th>30</th><td>Alabama</td><td>US</td><td>2020-04-02 23:25:27</td><td>4</td><td>0</td><td>0</td></tr><tr><th>&vellip;</th><td>&vellip;</td><td>&vellip;</td><td>&vellip;</td><td>&vellip;</td><td>&vellip;</td><td>&vellip;</td></tr></tbody></table><p>&vellip;</p><p><i>Last Group (17 rows): Province_State = \"Wyoming\"</i></p><table class=\"data-frame\"><thead><tr><th></th><th>Province_State</th><th>Country_Region</th><th>Last_Update</th><th>Confirmed</th><th>Deaths</th><th>Recovered</th></tr><tr><th></th><th>String?</th><th>String</th><th>String</th><th>Int64</th><th>Int64</th><th>Int64</th></tr></thead><tbody><tr><th>1</th><td>Wyoming</td><td>US</td><td>2020-04-02 23:25:27</td><td>3</td><td>0</td><td>0</td></tr><tr><th>2</th><td>Wyoming</td><td>US</td><td>2020-04-02 23:25:27</td><td>6</td><td>0</td><td>0</td></tr><tr><th>3</th><td>Wyoming</td><td>US</td><td>2020-04-02 23:25:27</td><td>3</td><td>0</td><td>0</td></tr><tr><th>4</th><td>Wyoming</td><td>US</td><td>2020-04-02 23:25:27</td><td>2</td><td>0</td><td>0</td></tr><tr><th>5</th><td>Wyoming</td><td>US</td><td>2020-04-02 23:25:27</td><td>26</td><td>0</td><td>0</td></tr><tr><th>6</th><td>Wyoming</td><td>US</td><td>2020-04-02 23:25:27</td><td>1</td><td>0</td><td>0</td></tr><tr><th>7</th><td>Wyoming</td><td>US</td><td>2020-04-02 23:25:27</td><td>8</td><td>0</td><td>0</td></tr><tr><th>8</th><td>Wyoming</td><td>US</td><td>2020-04-02 23:25:27</td><td>36</td><td>0</td><td>0</td></tr><tr><th>9</th><td>Wyoming</td><td>US</td><td>2020-04-02 23:25:27</td><td>19</td><td>0</td><td>0</td></tr><tr><th>10</th><td>Wyoming</td><td>US</td><td>2020-04-02 23:25:27</td><td>1</td><td>0</td><td>0</td></tr><tr><th>11</th><td>Wyoming</td><td>US</td><td>2020-04-02 23:25:27</td><td>10</td><td>0</td><td>0</td></tr><tr><th>12</th><td>Wyoming</td><td>US</td><td>2020-04-02 23:25:27</td><td>1</td><td>0</td><td>0</td></tr><tr><th>13</th><td>Wyoming</td><td>US</td><td>2020-04-02 23:25:27</td><td>3</td><td>0</td><td>0</td></tr><tr><th>14</th><td>Wyoming</td><td>US</td><td>2020-04-02 23:25:27</td><td>29</td><td>0</td><td>0</td></tr><tr><th>15</th><td>Wyoming</td><td>US</td><td>2020-04-02 23:25:27</td><td>1</td><td>0</td><td>0</td></tr><tr><th>16</th><td>Wyoming</td><td>US</td><td>2020-04-02 23:25:27</td><td>1</td><td>0</td><td>0</td></tr><tr><th>17</th><td>Wyoming</td><td>US</td><td>2020-04-02 23:25:27</td><td>0</td><td>0</td><td>0</td></tr></tbody></table>"
      ],
      "text/latex": [
       "GroupedDataFrame with 58 groups based on key: Province\\_State\n",
       "\n",
       "First Group (64 rows): Province\\_State = \"Alabama\"\n",
       "\n",
       "\\begin{tabular}{r|ccccccc}\n",
       "\t& Province\\_State & Country\\_Region & Last\\_Update & Confirmed & Deaths & Recovered & \\\\\n",
       "\t\\hline\n",
       "\t& String? & String & String & Int64 & Int64 & Int64 & \\\\\n",
       "\t\\hline\n",
       "\t1 & Alabama & US & 2020-04-02 23:25:27 & 10 & 0 & 0 & $\\dots$ \\\\\n",
       "\t2 & Alabama & US & 2020-04-02 23:25:27 & 24 & 1 & 0 & $\\dots$ \\\\\n",
       "\t3 & Alabama & US & 2020-04-02 23:25:27 & 4 & 0 & 0 & $\\dots$ \\\\\n",
       "\t4 & Alabama & US & 2020-04-02 23:25:27 & 6 & 0 & 0 & $\\dots$ \\\\\n",
       "\t5 & Alabama & US & 2020-04-02 23:25:27 & 2 & 0 & 0 & $\\dots$ \\\\\n",
       "\t6 & Alabama & US & 2020-04-02 23:25:27 & 1 & 0 & 0 & $\\dots$ \\\\\n",
       "\t7 & Alabama & US & 2020-04-02 23:25:27 & 12 & 0 & 0 & $\\dots$ \\\\\n",
       "\t8 & Alabama & US & 2020-04-02 23:25:27 & 67 & 4 & 0 & $\\dots$ \\\\\n",
       "\t9 & Alabama & US & 2020-04-02 23:25:27 & 4 & 0 & 0 & $\\dots$ \\\\\n",
       "\t10 & Alabama & US & 2020-04-02 23:25:27 & 14 & 0 & 0 & $\\dots$ \\\\\n",
       "\t11 & Alabama & US & 2020-04-02 23:25:27 & 4 & 0 & 0 & $\\dots$ \\\\\n",
       "\t12 & Alabama & US & 2020-04-02 23:25:27 & 2 & 0 & 0 & $\\dots$ \\\\\n",
       "\t13 & Alabama & US & 2020-04-02 23:25:27 & 6 & 0 & 0 & $\\dots$ \\\\\n",
       "\t14 & Alabama & US & 2020-04-02 23:25:27 & 6 & 0 & 0 & $\\dots$ \\\\\n",
       "\t15 & Alabama & US & 2020-04-02 23:25:27 & 1 & 0 & 0 & $\\dots$ \\\\\n",
       "\t16 & Alabama & US & 2020-04-02 23:25:27 & 5 & 0 & 0 & $\\dots$ \\\\\n",
       "\t17 & Alabama & US & 2020-04-02 23:25:27 & 1 & 0 & 0 & $\\dots$ \\\\\n",
       "\t18 & Alabama & US & 2020-04-02 23:25:27 & 5 & 0 & 0 & $\\dots$ \\\\\n",
       "\t19 & Alabama & US & 2020-04-02 23:25:27 & 3 & 0 & 0 & $\\dots$ \\\\\n",
       "\t20 & Alabama & US & 2020-04-02 23:25:27 & 1 & 0 & 0 & $\\dots$ \\\\\n",
       "\t21 & Alabama & US & 2020-04-02 23:25:27 & 9 & 1 & 0 & $\\dots$ \\\\\n",
       "\t22 & Alabama & US & 2020-04-02 23:25:27 & 1 & 0 & 0 & $\\dots$ \\\\\n",
       "\t23 & Alabama & US & 2020-04-02 23:25:27 & 4 & 0 & 0 & $\\dots$ \\\\\n",
       "\t24 & Alabama & US & 2020-04-02 23:25:27 & 8 & 0 & 0 & $\\dots$ \\\\\n",
       "\t25 & Alabama & US & 2020-04-02 23:25:27 & 17 & 0 & 0 & $\\dots$ \\\\\n",
       "\t26 & Alabama & US & 2020-04-02 23:25:27 & 2 & 0 & 0 & $\\dots$ \\\\\n",
       "\t27 & Alabama & US & 2020-04-02 23:25:27 & 13 & 1 & 0 & $\\dots$ \\\\\n",
       "\t28 & Alabama & US & 2020-04-02 23:25:27 & 1 & 0 & 0 & $\\dots$ \\\\\n",
       "\t29 & Alabama & US & 2020-04-02 23:25:27 & 4 & 0 & 0 & $\\dots$ \\\\\n",
       "\t30 & Alabama & US & 2020-04-02 23:25:27 & 4 & 0 & 0 & $\\dots$ \\\\\n",
       "\t$\\dots$ & $\\dots$ & $\\dots$ & $\\dots$ & $\\dots$ & $\\dots$ & $\\dots$ &  \\\\\n",
       "\\end{tabular}\n",
       "\n",
       "$\\dots$\n",
       "\n",
       "Last Group (17 rows): Province\\_State = \"Wyoming\"\n",
       "\n",
       "\\begin{tabular}{r|ccccccc}\n",
       "\t& Province\\_State & Country\\_Region & Last\\_Update & Confirmed & Deaths & Recovered & \\\\\n",
       "\t\\hline\n",
       "\t& String? & String & String & Int64 & Int64 & Int64 & \\\\\n",
       "\t\\hline\n",
       "\t1 & Wyoming & US & 2020-04-02 23:25:27 & 3 & 0 & 0 & $\\dots$ \\\\\n",
       "\t2 & Wyoming & US & 2020-04-02 23:25:27 & 6 & 0 & 0 & $\\dots$ \\\\\n",
       "\t3 & Wyoming & US & 2020-04-02 23:25:27 & 3 & 0 & 0 & $\\dots$ \\\\\n",
       "\t4 & Wyoming & US & 2020-04-02 23:25:27 & 2 & 0 & 0 & $\\dots$ \\\\\n",
       "\t5 & Wyoming & US & 2020-04-02 23:25:27 & 26 & 0 & 0 & $\\dots$ \\\\\n",
       "\t6 & Wyoming & US & 2020-04-02 23:25:27 & 1 & 0 & 0 & $\\dots$ \\\\\n",
       "\t7 & Wyoming & US & 2020-04-02 23:25:27 & 8 & 0 & 0 & $\\dots$ \\\\\n",
       "\t8 & Wyoming & US & 2020-04-02 23:25:27 & 36 & 0 & 0 & $\\dots$ \\\\\n",
       "\t9 & Wyoming & US & 2020-04-02 23:25:27 & 19 & 0 & 0 & $\\dots$ \\\\\n",
       "\t10 & Wyoming & US & 2020-04-02 23:25:27 & 1 & 0 & 0 & $\\dots$ \\\\\n",
       "\t11 & Wyoming & US & 2020-04-02 23:25:27 & 10 & 0 & 0 & $\\dots$ \\\\\n",
       "\t12 & Wyoming & US & 2020-04-02 23:25:27 & 1 & 0 & 0 & $\\dots$ \\\\\n",
       "\t13 & Wyoming & US & 2020-04-02 23:25:27 & 3 & 0 & 0 & $\\dots$ \\\\\n",
       "\t14 & Wyoming & US & 2020-04-02 23:25:27 & 29 & 0 & 0 & $\\dots$ \\\\\n",
       "\t15 & Wyoming & US & 2020-04-02 23:25:27 & 1 & 0 & 0 & $\\dots$ \\\\\n",
       "\t16 & Wyoming & US & 2020-04-02 23:25:27 & 1 & 0 & 0 & $\\dots$ \\\\\n",
       "\t17 & Wyoming & US & 2020-04-02 23:25:27 & 0 & 0 & 0 & $\\dots$ \\\\\n",
       "\\end{tabular}\n"
      ],
      "text/plain": [
       "GroupedDataFrame with 58 groups based on key: Province_State\n",
       "First Group (64 rows): Province_State = \"Alabama\". Omitted printing of 4 columns\n",
       "│ Row │ Province_State │ Country_Region │ Last_Update         │ Confirmed │\n",
       "│     │ \u001b[90mString?\u001b[39m        │ \u001b[90mString\u001b[39m         │ \u001b[90mString\u001b[39m              │ \u001b[90mInt64\u001b[39m     │\n",
       "├─────┼────────────────┼────────────────┼─────────────────────┼───────────┤\n",
       "│ 1   │ Alabama        │ US             │ 2020-04-02 23:25:27 │ 10        │\n",
       "│ 2   │ Alabama        │ US             │ 2020-04-02 23:25:27 │ 24        │\n",
       "│ 3   │ Alabama        │ US             │ 2020-04-02 23:25:27 │ 4         │\n",
       "│ 4   │ Alabama        │ US             │ 2020-04-02 23:25:27 │ 6         │\n",
       "│ 5   │ Alabama        │ US             │ 2020-04-02 23:25:27 │ 2         │\n",
       "│ 6   │ Alabama        │ US             │ 2020-04-02 23:25:27 │ 1         │\n",
       "│ 7   │ Alabama        │ US             │ 2020-04-02 23:25:27 │ 12        │\n",
       "│ 8   │ Alabama        │ US             │ 2020-04-02 23:25:27 │ 67        │\n",
       "│ 9   │ Alabama        │ US             │ 2020-04-02 23:25:27 │ 4         │\n",
       "│ 10  │ Alabama        │ US             │ 2020-04-02 23:25:27 │ 14        │\n",
       "⋮\n",
       "│ 54  │ Alabama        │ US             │ 2020-04-02 23:25:27 │ 98        │\n",
       "│ 55  │ Alabama        │ US             │ 2020-04-02 23:25:27 │ 19        │\n",
       "│ 56  │ Alabama        │ US             │ 2020-04-02 23:25:27 │ 4         │\n",
       "│ 57  │ Alabama        │ US             │ 2020-04-02 23:25:27 │ 8         │\n",
       "│ 58  │ Alabama        │ US             │ 2020-04-02 23:25:27 │ 17        │\n",
       "│ 59  │ Alabama        │ US             │ 2020-04-02 23:25:27 │ 34        │\n",
       "│ 60  │ Alabama        │ US             │ 2020-04-02 23:25:27 │ 0         │\n",
       "│ 61  │ Alabama        │ US             │ 2020-04-02 23:25:27 │ 34        │\n",
       "│ 62  │ Alabama        │ US             │ 2020-04-02 23:25:27 │ 3         │\n",
       "│ 63  │ Alabama        │ US             │ 2020-04-02 23:25:27 │ 5         │\n",
       "│ 64  │ Alabama        │ US             │ 2020-04-02 23:25:27 │ 2         │\n",
       "⋮\n",
       "Last Group (17 rows): Province_State = \"Wyoming\". Omitted printing of 4 columns\n",
       "│ Row │ Province_State │ Country_Region │ Last_Update         │ Confirmed │\n",
       "│     │ \u001b[90mString?\u001b[39m        │ \u001b[90mString\u001b[39m         │ \u001b[90mString\u001b[39m              │ \u001b[90mInt64\u001b[39m     │\n",
       "├─────┼────────────────┼────────────────┼─────────────────────┼───────────┤\n",
       "│ 1   │ Wyoming        │ US             │ 2020-04-02 23:25:27 │ 3         │\n",
       "│ 2   │ Wyoming        │ US             │ 2020-04-02 23:25:27 │ 6         │\n",
       "│ 3   │ Wyoming        │ US             │ 2020-04-02 23:25:27 │ 3         │\n",
       "│ 4   │ Wyoming        │ US             │ 2020-04-02 23:25:27 │ 2         │\n",
       "│ 5   │ Wyoming        │ US             │ 2020-04-02 23:25:27 │ 26        │\n",
       "│ 6   │ Wyoming        │ US             │ 2020-04-02 23:25:27 │ 1         │\n",
       "│ 7   │ Wyoming        │ US             │ 2020-04-02 23:25:27 │ 8         │\n",
       "│ 8   │ Wyoming        │ US             │ 2020-04-02 23:25:27 │ 36        │\n",
       "│ 9   │ Wyoming        │ US             │ 2020-04-02 23:25:27 │ 19        │\n",
       "│ 10  │ Wyoming        │ US             │ 2020-04-02 23:25:27 │ 1         │\n",
       "│ 11  │ Wyoming        │ US             │ 2020-04-02 23:25:27 │ 10        │\n",
       "│ 12  │ Wyoming        │ US             │ 2020-04-02 23:25:27 │ 1         │\n",
       "│ 13  │ Wyoming        │ US             │ 2020-04-02 23:25:27 │ 3         │\n",
       "│ 14  │ Wyoming        │ US             │ 2020-04-02 23:25:27 │ 29        │\n",
       "│ 15  │ Wyoming        │ US             │ 2020-04-02 23:25:27 │ 1         │\n",
       "│ 16  │ Wyoming        │ US             │ 2020-04-02 23:25:27 │ 1         │\n",
       "│ 17  │ Wyoming        │ US             │ 2020-04-02 23:25:27 │ 0         │"
      ]
     },
     "execution_count": 44,
     "metadata": {},
     "output_type": "execute_result"
    }
   ],
   "source": [
    "df2 = df[df[!,\"Country_Region\"] .==[\"US\"], :]\n",
    "x = groupby(df2,[\"Province_State\"], sort=true, skipmissing=true)"
   ]
  },
  {
   "cell_type": "code",
   "execution_count": 48,
   "metadata": {
    "colab": {},
    "colab_type": "code",
    "id": "DNcWry3zlD3N"
   },
   "outputs": [
    {
     "data": {
      "text/html": [
       "<table class=\"data-frame\"><thead><tr><th></th><th>Province_State</th><th>Confirmed</th><th>Deaths</th><th>Recovered</th></tr><tr><th></th><th>String?</th><th>Int64</th><th>Int64</th><th>Int64</th></tr></thead><tbody><p>58 rows × 4 columns</p><tr><th>1</th><td>Alabama</td><td>1233</td><td>32</td><td>0</td></tr><tr><th>2</th><td>Alaska</td><td>143</td><td>3</td><td>0</td></tr><tr><th>3</th><td>Arizona</td><td>1715</td><td>32</td><td>0</td></tr><tr><th>4</th><td>Arkansas</td><td>643</td><td>12</td><td>0</td></tr><tr><th>5</th><td>California</td><td>10773</td><td>238</td><td>0</td></tr><tr><th>6</th><td>Colorado</td><td>3342</td><td>80</td><td>0</td></tr><tr><th>7</th><td>Connecticut</td><td>3824</td><td>112</td><td>0</td></tr><tr><th>8</th><td>Delaware</td><td>393</td><td>12</td><td>0</td></tr><tr><th>9</th><td>Diamond Princess</td><td>49</td><td>0</td><td>0</td></tr><tr><th>10</th><td>District of Columbia</td><td>653</td><td>12</td><td>0</td></tr><tr><th>11</th><td>Florida</td><td>9008</td><td>164</td><td>0</td></tr><tr><th>12</th><td>Georgia</td><td>5348</td><td>163</td><td>0</td></tr><tr><th>13</th><td>Grand Princess</td><td>103</td><td>3</td><td>0</td></tr><tr><th>14</th><td>Guam</td><td>82</td><td>3</td><td>0</td></tr><tr><th>15</th><td>Hawaii</td><td>256</td><td>1</td><td>0</td></tr><tr><th>16</th><td>Idaho</td><td>776</td><td>9</td><td>0</td></tr><tr><th>17</th><td>Illinois</td><td>7695</td><td>163</td><td>0</td></tr><tr><th>18</th><td>Indiana</td><td>3038</td><td>78</td><td>0</td></tr><tr><th>19</th><td>Iowa</td><td>614</td><td>11</td><td>0</td></tr><tr><th>20</th><td>Kansas</td><td>553</td><td>12</td><td>0</td></tr><tr><th>21</th><td>Kentucky</td><td>770</td><td>31</td><td>0</td></tr><tr><th>22</th><td>Louisiana</td><td>9159</td><td>310</td><td>0</td></tr><tr><th>23</th><td>Maine</td><td>376</td><td>7</td><td>0</td></tr><tr><th>24</th><td>Maryland</td><td>2331</td><td>36</td><td>0</td></tr><tr><th>25</th><td>Massachusetts</td><td>8966</td><td>154</td><td>0</td></tr><tr><th>26</th><td>Michigan</td><td>10791</td><td>417</td><td>0</td></tr><tr><th>27</th><td>Minnesota</td><td>742</td><td>18</td><td>0</td></tr><tr><th>28</th><td>Mississippi</td><td>1177</td><td>26</td><td>0</td></tr><tr><th>29</th><td>Missouri</td><td>1857</td><td>22</td><td>0</td></tr><tr><th>30</th><td>Montana</td><td>241</td><td>6</td><td>0</td></tr><tr><th>&vellip;</th><td>&vellip;</td><td>&vellip;</td><td>&vellip;</td><td>&vellip;</td></tr></tbody></table>"
      ],
      "text/latex": [
       "\\begin{tabular}{r|cccc}\n",
       "\t& Province\\_State & Confirmed & Deaths & Recovered\\\\\n",
       "\t\\hline\n",
       "\t& String? & Int64 & Int64 & Int64\\\\\n",
       "\t\\hline\n",
       "\t1 & Alabama & 1233 & 32 & 0 \\\\\n",
       "\t2 & Alaska & 143 & 3 & 0 \\\\\n",
       "\t3 & Arizona & 1715 & 32 & 0 \\\\\n",
       "\t4 & Arkansas & 643 & 12 & 0 \\\\\n",
       "\t5 & California & 10773 & 238 & 0 \\\\\n",
       "\t6 & Colorado & 3342 & 80 & 0 \\\\\n",
       "\t7 & Connecticut & 3824 & 112 & 0 \\\\\n",
       "\t8 & Delaware & 393 & 12 & 0 \\\\\n",
       "\t9 & Diamond Princess & 49 & 0 & 0 \\\\\n",
       "\t10 & District of Columbia & 653 & 12 & 0 \\\\\n",
       "\t11 & Florida & 9008 & 164 & 0 \\\\\n",
       "\t12 & Georgia & 5348 & 163 & 0 \\\\\n",
       "\t13 & Grand Princess & 103 & 3 & 0 \\\\\n",
       "\t14 & Guam & 82 & 3 & 0 \\\\\n",
       "\t15 & Hawaii & 256 & 1 & 0 \\\\\n",
       "\t16 & Idaho & 776 & 9 & 0 \\\\\n",
       "\t17 & Illinois & 7695 & 163 & 0 \\\\\n",
       "\t18 & Indiana & 3038 & 78 & 0 \\\\\n",
       "\t19 & Iowa & 614 & 11 & 0 \\\\\n",
       "\t20 & Kansas & 553 & 12 & 0 \\\\\n",
       "\t21 & Kentucky & 770 & 31 & 0 \\\\\n",
       "\t22 & Louisiana & 9159 & 310 & 0 \\\\\n",
       "\t23 & Maine & 376 & 7 & 0 \\\\\n",
       "\t24 & Maryland & 2331 & 36 & 0 \\\\\n",
       "\t25 & Massachusetts & 8966 & 154 & 0 \\\\\n",
       "\t26 & Michigan & 10791 & 417 & 0 \\\\\n",
       "\t27 & Minnesota & 742 & 18 & 0 \\\\\n",
       "\t28 & Mississippi & 1177 & 26 & 0 \\\\\n",
       "\t29 & Missouri & 1857 & 22 & 0 \\\\\n",
       "\t30 & Montana & 241 & 6 & 0 \\\\\n",
       "\t$\\dots$ & $\\dots$ & $\\dots$ & $\\dots$ & $\\dots$ \\\\\n",
       "\\end{tabular}\n"
      ],
      "text/plain": [
       "58×4 DataFrame\n",
       "│ Row │ Province_State       │ Confirmed │ Deaths │ Recovered │\n",
       "│     │ \u001b[90mString?\u001b[39m              │ \u001b[90mInt64\u001b[39m     │ \u001b[90mInt64\u001b[39m  │ \u001b[90mInt64\u001b[39m     │\n",
       "├─────┼──────────────────────┼───────────┼────────┼───────────┤\n",
       "│ 1   │ Alabama              │ 1233      │ 32     │ 0         │\n",
       "│ 2   │ Alaska               │ 143       │ 3      │ 0         │\n",
       "│ 3   │ Arizona              │ 1715      │ 32     │ 0         │\n",
       "│ 4   │ Arkansas             │ 643       │ 12     │ 0         │\n",
       "│ 5   │ California           │ 10773     │ 238    │ 0         │\n",
       "│ 6   │ Colorado             │ 3342      │ 80     │ 0         │\n",
       "│ 7   │ Connecticut          │ 3824      │ 112    │ 0         │\n",
       "│ 8   │ Delaware             │ 393       │ 12     │ 0         │\n",
       "│ 9   │ Diamond Princess     │ 49        │ 0      │ 0         │\n",
       "│ 10  │ District of Columbia │ 653       │ 12     │ 0         │\n",
       "⋮\n",
       "│ 48  │ South Dakota         │ 165       │ 2      │ 0         │\n",
       "│ 49  │ Tennessee            │ 2845      │ 36     │ 0         │\n",
       "│ 50  │ Texas                │ 5069      │ 77     │ 0         │\n",
       "│ 51  │ Utah                 │ 1092      │ 7      │ 0         │\n",
       "│ 52  │ Vermont              │ 338       │ 17     │ 0         │\n",
       "│ 53  │ Virgin Islands       │ 30        │ 0      │ 0         │\n",
       "│ 54  │ Virginia             │ 1706      │ 41     │ 0         │\n",
       "│ 55  │ Washington           │ 6389      │ 271    │ 0         │\n",
       "│ 56  │ West Virginia        │ 216       │ 2      │ 0         │\n",
       "│ 57  │ Wisconsin            │ 1748      │ 38     │ 0         │\n",
       "│ 58  │ Wyoming              │ 150       │ 0      │ 0         │"
      ]
     },
     "execution_count": 48,
     "metadata": {},
     "output_type": "execute_result"
    }
   ],
   "source": [
    "combine([:Confirmed, :Deaths,:Recovered] => (c,d,r) -> (Confirmed=sum(c), Deaths=sum(d),Recovered=sum(r)),x)"
   ]
  }
 ],
 "metadata": {
  "colab": {
   "name": "julia_018_hw.ipynb",
   "provenance": []
  },
  "kernelspec": {
   "display_name": "Julia 1.4.2",
   "language": "julia",
   "name": "julia-1.4"
  },
  "language_info": {
   "file_extension": ".jl",
   "mimetype": "application/julia",
   "name": "julia",
   "version": "1.4.2"
  }
 },
 "nbformat": 4,
 "nbformat_minor": 1
}
