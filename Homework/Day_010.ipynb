{
 "cells": [
  {
   "cell_type": "markdown",
   "metadata": {},
   "source": [
    "# 集合 (Collection) 型別：元組 (Tuple) 、Pair、字典 (Dict)、與 Set\n",
    "\n",
    "## Day 010 作業：計算字串中各宇元出現的次數\n",
    "\n",
    "今天的作業請大家計算字串中，各字元 (包含標點符號與換行符號) 出現的次數。範例解答將以字典 (Dict) 示範，將出現在字串中的字元作為 key，字元每出現一次就將對應的 value 次數加 1。最後，印出各字元及出現的次數。\n",
    "\n",
    "【提示】要判斷字典中某個 key 是否存在，可以呼叫 `haskey(字典, key)`，若 key 存在的話就會回傳 `true`。使用範例請參閱官方文件 [https://docs.julialang.org/en/v1/base/collections/#Base.haskey](https://docs.julialang.org/en/v1/base/collections/#Base.haskey)"
   ]
  },
  {
   "cell_type": "code",
   "execution_count": 1,
   "metadata": {},
   "outputs": [
    {
     "data": {
      "text/plain": [
       "\"永和有永和路，中和也有永和路，\\n中和有中和路，永和也有中和路；\\n中和的中和路有接永和的中和路，\\n永和的永和路沒接中和的永和路；\\n永和的中和路有接永和的永和路，\\n中和的永和路沒接中和的中和路。\""
      ]
     },
     "execution_count": 1,
     "metadata": {},
     "output_type": "execute_result"
    }
   ],
   "source": [
    "str = \"永和有永和路，中和也有永和路，\n",
    "中和有中和路，永和也有中和路；\n",
    "中和的中和路有接永和的中和路，\n",
    "永和的永和路沒接中和的永和路；\n",
    "永和的中和路有接永和的永和路，\n",
    "中和的永和路沒接中和的中和路。\"\n"
   ]
  },
  {
   "cell_type": "code",
   "execution_count": 2,
   "metadata": {},
   "outputs": [
    {
     "data": {
      "text/plain": [
       "Dict{String,Int64} with 12 entries:\n",
       "  \"接… => 8\n",
       "  \"也… => 6\n",
       "  \"和… => 2\n",
       "  \",\" => 9\n",
       "  \"沒… => 11\n",
       "  \"永… => 1\n",
       "  \"的… => 7\n",
       "  \"中… => 5\n",
       "  \"路… => 4\n",
       "  \"。… => 12\n",
       "  \"有… => 3\n",
       "  \";\" => 10"
      ]
     },
     "execution_count": 2,
     "metadata": {},
     "output_type": "execute_result"
    }
   ],
   "source": [
    "永 = 0\n",
    "和 = 0\n",
    "有 = 0\n",
    "路 = 0\n",
    "中 = 0\n",
    "的 = 0\n",
    "接 = 0\n",
    "comma = 0\n",
    "semi = 0\n",
    "也 = 0\n",
    "fullstop = 0\n",
    "沒 = 0\n",
    "tab = Dict(\"永\" => 1,\"和\" => 2,\"有\" =>3,\"路\" =>4,\"中\" =>5,\"也\" =>6,\"的\" =>7,\"接\" => 8,\",\"=>9,\";\"=>10,\"沒\" =>11,\"。\" => 12)"
   ]
  },
  {
   "cell_type": "code",
   "execution_count": 3,
   "metadata": {},
   "outputs": [],
   "source": [
    "for chr in str\n",
    "    chr = string(chr)\n",
    "    if chr == \"永\"\n",
    "        永+=1\n",
    "    elseif chr == \"和\"\n",
    "        和+=1\n",
    "    elseif chr == \"有\"\n",
    "        有+=1\n",
    "    elseif chr == \"路\"\n",
    "        路+=1\n",
    "    elseif chr == \"中\"\n",
    "        中+=1\n",
    "    elseif chr == \"的\"\n",
    "        的+=1\n",
    "    elseif chr == \"接\"\n",
    "        接+=1\n",
    "    elseif chr == \"也\"\n",
    "        也+=1\n",
    "    elseif chr == \"沒\"\n",
    "        沒+=1\n",
    "    elseif chr == \"。\"\n",
    "        fullstop+=1\n",
    "    elseif chr == \",\"\n",
    "        comma+=1\n",
    "    elseif chr == \";\"\n",
    "        semi+=1\n",
    "    else\n",
    "        continue\n",
    "    end\n",
    "end"
   ]
  },
  {
   "cell_type": "code",
   "execution_count": 4,
   "metadata": {},
   "outputs": [
    {
     "data": {
      "text/plain": [
       "\"There are 2 沒 characters\""
      ]
     },
     "execution_count": 4,
     "metadata": {},
     "output_type": "execute_result"
    }
   ],
   "source": [
    "永 = string(\"There are \",永,\" 永 characters\")\n",
    "和 = string(\"There are \",和,\" 和 characters\")\n",
    "有 = string(\"There are \",有,\" 有 characters\")\n",
    "路 = string(\"There are \",路,\" 路 characters\")\n",
    "中 = string(\"There are \",中,\" 中 characters\")\n",
    "的 = string(\"There are \",的,\" 的 characters\")\n",
    "接 = string(\"There are \",接,\" 接 characters\")\n",
    "comma = string(\"There are \",comma,\" , characters\")\n",
    "semi = string(\"There are \",semi,\" ; characters\")\n",
    "也 = string(\"There are \",也,\" 也 characters\")\n",
    "fullstop = string(\"There are \",fullstop,\" . characters\")\n",
    "沒 = string(\"There are \",沒,\" 沒 characters\")                                      "
   ]
  },
  {
   "cell_type": "code",
   "execution_count": 5,
   "metadata": {},
   "outputs": [
    {
     "name": "stdout",
     "output_type": "stream",
     "text": [
      "There are 12 永 characters\n",
      "There are 24 和 characters\n",
      "There are 6 有 characters\n",
      "There are 12 路 characters\n",
      "There are 12 中 characters\n",
      "There are 8 的 characters\n",
      "There are 4 接 characters\n",
      "There are 2 也 characters\n",
      "There are 2 沒 characters\n",
      "There are 0 , characters\n",
      "There are 0 ; characters\n",
      "There are 1 . characters\n"
     ]
    }
   ],
   "source": [
    "println(永)\n",
    "println(和)\n",
    "println(有)\n",
    "println(路)\n",
    "println(中)\n",
    "println(的)\n",
    "println(接)\n",
    "println(也)\n",
    "println(沒)\n",
    "println(comma)\n",
    "println(semi)\n",
    "println(fullstop)"
   ]
  }
 ],
 "metadata": {
  "@webio": {
   "lastCommId": null,
   "lastKernelId": null
  },
  "kernelspec": {
   "display_name": "Julia 1.4.2",
   "language": "julia",
   "name": "julia-1.4"
  },
  "language_info": {
   "file_extension": ".jl",
   "mimetype": "application/julia",
   "name": "julia",
   "version": "1.4.2"
  }
 },
 "nbformat": 4,
 "nbformat_minor": 4
}
