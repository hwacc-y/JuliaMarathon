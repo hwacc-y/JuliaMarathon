{
 "cells": [
  {
   "cell_type": "markdown",
   "metadata": {
    "colab_type": "text",
    "id": "EVPW4kLCmaSc"
   },
   "source": [
    "## Day 20 作業：將 missing 值替代為其他值\n",
    "\n",
    "由於現實世界中的資料可能有缺漏，因此資料中就會有 missing 值存在，而在資料科學及機器學習中，缺漏值的處理關係到分析或預測的結果。\n",
    "\n",
    "在今天的作業中，請將資料集中的年齡缺漏值，依性別分別替換為資料集中男性或女性的年齡平均值。\n",
    "\n",
    "本次作業使用的資料集：Kaggle Titanic: Machine Learning from Disaster 的 train 資料集\n",
    "\n",
    "競賽主頁：[https://www.kaggle.com/c/titanic/overview](https://www.kaggle.com/c/titanic/overview)\n",
    "\n",
    "請自行下載資料集 **train.csv**：[https://www.kaggle.com/c/titanic/data](https://www.kaggle.com/c/titanic/data)"
   ]
  },
  {
   "cell_type": "code",
   "execution_count": 76,
   "metadata": {
    "colab": {},
    "colab_type": "code",
    "id": "eeWlfZJSmaSe"
   },
   "outputs": [],
   "source": [
    "using DataFrames, CSV, Missings"
   ]
  },
  {
   "cell_type": "code",
   "execution_count": 154,
   "metadata": {
    "colab": {},
    "colab_type": "code",
    "id": "IkfIcUkjmaTS",
    "outputId": "7c455008-ef6c-410c-a8ba-1ad7c6edbb2d"
   },
   "outputs": [
    {
     "name": "stderr",
     "output_type": "stream",
     "text": [
      "┌ Warning: `CSV.read(input; kw...)` is deprecated in favor of `DataFrame!(CSV.File(input; kw...))`\n",
      "└ @ CSV C:\\Users\\user\\.julia\\packages\\CSV\\UWuB2\\src\\CSV.jl:40\n"
     ]
    },
    {
     "data": {
      "text/html": [
       "<table class=\"data-frame\"><thead><tr><th></th><th>PassengerId</th><th>Survived</th><th>Pclass</th><th>Name</th></tr><tr><th></th><th>Int64</th><th>Int64</th><th>Int64</th><th>String</th></tr></thead><tbody><p>891 rows × 12 columns (omitted printing of 8 columns)</p><tr><th>1</th><td>1</td><td>0</td><td>3</td><td>Braund, Mr. Owen Harris</td></tr><tr><th>2</th><td>2</td><td>1</td><td>1</td><td>Cumings, Mrs. John Bradley (Florence Briggs Thayer)</td></tr><tr><th>3</th><td>3</td><td>1</td><td>3</td><td>Heikkinen, Miss. Laina</td></tr><tr><th>4</th><td>4</td><td>1</td><td>1</td><td>Futrelle, Mrs. Jacques Heath (Lily May Peel)</td></tr><tr><th>5</th><td>5</td><td>0</td><td>3</td><td>Allen, Mr. William Henry</td></tr><tr><th>6</th><td>6</td><td>0</td><td>3</td><td>Moran, Mr. James</td></tr><tr><th>7</th><td>7</td><td>0</td><td>1</td><td>McCarthy, Mr. Timothy J</td></tr><tr><th>8</th><td>8</td><td>0</td><td>3</td><td>Palsson, Master. Gosta Leonard</td></tr><tr><th>9</th><td>9</td><td>1</td><td>3</td><td>Johnson, Mrs. Oscar W (Elisabeth Vilhelmina Berg)</td></tr><tr><th>10</th><td>10</td><td>1</td><td>2</td><td>Nasser, Mrs. Nicholas (Adele Achem)</td></tr><tr><th>11</th><td>11</td><td>1</td><td>3</td><td>Sandstrom, Miss. Marguerite Rut</td></tr><tr><th>12</th><td>12</td><td>1</td><td>1</td><td>Bonnell, Miss. Elizabeth</td></tr><tr><th>13</th><td>13</td><td>0</td><td>3</td><td>Saundercock, Mr. William Henry</td></tr><tr><th>14</th><td>14</td><td>0</td><td>3</td><td>Andersson, Mr. Anders Johan</td></tr><tr><th>15</th><td>15</td><td>0</td><td>3</td><td>Vestrom, Miss. Hulda Amanda Adolfina</td></tr><tr><th>16</th><td>16</td><td>1</td><td>2</td><td>Hewlett, Mrs. (Mary D Kingcome) </td></tr><tr><th>17</th><td>17</td><td>0</td><td>3</td><td>Rice, Master. Eugene</td></tr><tr><th>18</th><td>18</td><td>1</td><td>2</td><td>Williams, Mr. Charles Eugene</td></tr><tr><th>19</th><td>19</td><td>0</td><td>3</td><td>Vander Planke, Mrs. Julius (Emelia Maria Vandemoortele)</td></tr><tr><th>20</th><td>20</td><td>1</td><td>3</td><td>Masselmani, Mrs. Fatima</td></tr><tr><th>21</th><td>21</td><td>0</td><td>2</td><td>Fynney, Mr. Joseph J</td></tr><tr><th>22</th><td>22</td><td>1</td><td>2</td><td>Beesley, Mr. Lawrence</td></tr><tr><th>23</th><td>23</td><td>1</td><td>3</td><td>McGowan, Miss. Anna \"Annie\"</td></tr><tr><th>24</th><td>24</td><td>1</td><td>1</td><td>Sloper, Mr. William Thompson</td></tr><tr><th>25</th><td>25</td><td>0</td><td>3</td><td>Palsson, Miss. Torborg Danira</td></tr><tr><th>26</th><td>26</td><td>1</td><td>3</td><td>Asplund, Mrs. Carl Oscar (Selma Augusta Emilia Johansson)</td></tr><tr><th>27</th><td>27</td><td>0</td><td>3</td><td>Emir, Mr. Farred Chehab</td></tr><tr><th>28</th><td>28</td><td>0</td><td>1</td><td>Fortune, Mr. Charles Alexander</td></tr><tr><th>29</th><td>29</td><td>1</td><td>3</td><td>O'Dwyer, Miss. Ellen \"Nellie\"</td></tr><tr><th>30</th><td>30</td><td>0</td><td>3</td><td>Todoroff, Mr. Lalio</td></tr><tr><th>&vellip;</th><td>&vellip;</td><td>&vellip;</td><td>&vellip;</td><td>&vellip;</td></tr></tbody></table>"
      ],
      "text/latex": [
       "\\begin{tabular}{r|ccccc}\n",
       "\t& PassengerId & Survived & Pclass & Name & \\\\\n",
       "\t\\hline\n",
       "\t& Int64 & Int64 & Int64 & String & \\\\\n",
       "\t\\hline\n",
       "\t1 & 1 & 0 & 3 & Braund, Mr. Owen Harris & $\\dots$ \\\\\n",
       "\t2 & 2 & 1 & 1 & Cumings, Mrs. John Bradley (Florence Briggs Thayer) & $\\dots$ \\\\\n",
       "\t3 & 3 & 1 & 3 & Heikkinen, Miss. Laina & $\\dots$ \\\\\n",
       "\t4 & 4 & 1 & 1 & Futrelle, Mrs. Jacques Heath (Lily May Peel) & $\\dots$ \\\\\n",
       "\t5 & 5 & 0 & 3 & Allen, Mr. William Henry & $\\dots$ \\\\\n",
       "\t6 & 6 & 0 & 3 & Moran, Mr. James & $\\dots$ \\\\\n",
       "\t7 & 7 & 0 & 1 & McCarthy, Mr. Timothy J & $\\dots$ \\\\\n",
       "\t8 & 8 & 0 & 3 & Palsson, Master. Gosta Leonard & $\\dots$ \\\\\n",
       "\t9 & 9 & 1 & 3 & Johnson, Mrs. Oscar W (Elisabeth Vilhelmina Berg) & $\\dots$ \\\\\n",
       "\t10 & 10 & 1 & 2 & Nasser, Mrs. Nicholas (Adele Achem) & $\\dots$ \\\\\n",
       "\t11 & 11 & 1 & 3 & Sandstrom, Miss. Marguerite Rut & $\\dots$ \\\\\n",
       "\t12 & 12 & 1 & 1 & Bonnell, Miss. Elizabeth & $\\dots$ \\\\\n",
       "\t13 & 13 & 0 & 3 & Saundercock, Mr. William Henry & $\\dots$ \\\\\n",
       "\t14 & 14 & 0 & 3 & Andersson, Mr. Anders Johan & $\\dots$ \\\\\n",
       "\t15 & 15 & 0 & 3 & Vestrom, Miss. Hulda Amanda Adolfina & $\\dots$ \\\\\n",
       "\t16 & 16 & 1 & 2 & Hewlett, Mrs. (Mary D Kingcome)  & $\\dots$ \\\\\n",
       "\t17 & 17 & 0 & 3 & Rice, Master. Eugene & $\\dots$ \\\\\n",
       "\t18 & 18 & 1 & 2 & Williams, Mr. Charles Eugene & $\\dots$ \\\\\n",
       "\t19 & 19 & 0 & 3 & Vander Planke, Mrs. Julius (Emelia Maria Vandemoortele) & $\\dots$ \\\\\n",
       "\t20 & 20 & 1 & 3 & Masselmani, Mrs. Fatima & $\\dots$ \\\\\n",
       "\t21 & 21 & 0 & 2 & Fynney, Mr. Joseph J & $\\dots$ \\\\\n",
       "\t22 & 22 & 1 & 2 & Beesley, Mr. Lawrence & $\\dots$ \\\\\n",
       "\t23 & 23 & 1 & 3 & McGowan, Miss. Anna \"Annie\" & $\\dots$ \\\\\n",
       "\t24 & 24 & 1 & 1 & Sloper, Mr. William Thompson & $\\dots$ \\\\\n",
       "\t25 & 25 & 0 & 3 & Palsson, Miss. Torborg Danira & $\\dots$ \\\\\n",
       "\t26 & 26 & 1 & 3 & Asplund, Mrs. Carl Oscar (Selma Augusta Emilia Johansson) & $\\dots$ \\\\\n",
       "\t27 & 27 & 0 & 3 & Emir, Mr. Farred Chehab & $\\dots$ \\\\\n",
       "\t28 & 28 & 0 & 1 & Fortune, Mr. Charles Alexander & $\\dots$ \\\\\n",
       "\t29 & 29 & 1 & 3 & O'Dwyer, Miss. Ellen \"Nellie\" & $\\dots$ \\\\\n",
       "\t30 & 30 & 0 & 3 & Todoroff, Mr. Lalio & $\\dots$ \\\\\n",
       "\t$\\dots$ & $\\dots$ & $\\dots$ & $\\dots$ & $\\dots$ &  \\\\\n",
       "\\end{tabular}\n"
      ],
      "text/plain": [
       "891×12 DataFrame. Omitted printing of 9 columns\n",
       "│ Row │ PassengerId │ Survived │ Pclass │\n",
       "│     │ \u001b[90mInt64\u001b[39m       │ \u001b[90mInt64\u001b[39m    │ \u001b[90mInt64\u001b[39m  │\n",
       "├─────┼─────────────┼──────────┼────────┤\n",
       "│ 1   │ 1           │ 0        │ 3      │\n",
       "│ 2   │ 2           │ 1        │ 1      │\n",
       "│ 3   │ 3           │ 1        │ 3      │\n",
       "│ 4   │ 4           │ 1        │ 1      │\n",
       "│ 5   │ 5           │ 0        │ 3      │\n",
       "│ 6   │ 6           │ 0        │ 3      │\n",
       "│ 7   │ 7           │ 0        │ 1      │\n",
       "│ 8   │ 8           │ 0        │ 3      │\n",
       "│ 9   │ 9           │ 1        │ 3      │\n",
       "│ 10  │ 10          │ 1        │ 2      │\n",
       "⋮\n",
       "│ 881 │ 881         │ 1        │ 2      │\n",
       "│ 882 │ 882         │ 0        │ 3      │\n",
       "│ 883 │ 883         │ 0        │ 3      │\n",
       "│ 884 │ 884         │ 0        │ 2      │\n",
       "│ 885 │ 885         │ 0        │ 3      │\n",
       "│ 886 │ 886         │ 0        │ 3      │\n",
       "│ 887 │ 887         │ 0        │ 2      │\n",
       "│ 888 │ 888         │ 1        │ 1      │\n",
       "│ 889 │ 889         │ 0        │ 3      │\n",
       "│ 890 │ 890         │ 1        │ 1      │\n",
       "│ 891 │ 891         │ 0        │ 3      │"
      ]
     },
     "execution_count": 154,
     "metadata": {},
     "output_type": "execute_result"
    }
   ],
   "source": [
    "df = CSV.read(\"train.csv\")"
   ]
  },
  {
   "cell_type": "code",
   "execution_count": 3,
   "metadata": {
    "colab": {},
    "colab_type": "code",
    "id": "otCGP_AtmaTm",
    "outputId": "3ff0bb8d-1103-47d8-fe43-47f18622f8c5"
   },
   "outputs": [
    {
     "data": {
      "text/plain": [
       "(891, 12)"
      ]
     },
     "execution_count": 3,
     "metadata": {},
     "output_type": "execute_result"
    }
   ],
   "source": [
    "size(df)"
   ]
  },
  {
   "cell_type": "markdown",
   "metadata": {
    "colab_type": "text",
    "id": "3JwkiUhYmaT5"
   },
   "source": [
    "呼叫 `describe()` 函式時，加上 `:nmissing` 參數，顯示各 column 的 missing 值數目。\n",
    "\n",
    "可以看到 Age 共有 177 個缺漏值。"
   ]
  },
  {
   "cell_type": "code",
   "execution_count": 4,
   "metadata": {
    "colab": {},
    "colab_type": "code",
    "id": "QWT4tm45maT7",
    "outputId": "d0c6a1ae-b249-4a32-9284-c3ffd4910b96"
   },
   "outputs": [
    {
     "data": {
      "text/html": [
       "<table class=\"data-frame\"><thead><tr><th></th><th>variable</th><th>nmissing</th></tr><tr><th></th><th>Symbol</th><th>Union…</th></tr></thead><tbody><p>12 rows × 2 columns</p><tr><th>1</th><td>PassengerId</td><td></td></tr><tr><th>2</th><td>Survived</td><td></td></tr><tr><th>3</th><td>Pclass</td><td></td></tr><tr><th>4</th><td>Name</td><td></td></tr><tr><th>5</th><td>Sex</td><td></td></tr><tr><th>6</th><td>Age</td><td>177</td></tr><tr><th>7</th><td>SibSp</td><td></td></tr><tr><th>8</th><td>Parch</td><td></td></tr><tr><th>9</th><td>Ticket</td><td></td></tr><tr><th>10</th><td>Fare</td><td></td></tr><tr><th>11</th><td>Cabin</td><td>687</td></tr><tr><th>12</th><td>Embarked</td><td>2</td></tr></tbody></table>"
      ],
      "text/latex": [
       "\\begin{tabular}{r|cc}\n",
       "\t& variable & nmissing\\\\\n",
       "\t\\hline\n",
       "\t& Symbol & Union…\\\\\n",
       "\t\\hline\n",
       "\t1 & PassengerId &  \\\\\n",
       "\t2 & Survived &  \\\\\n",
       "\t3 & Pclass &  \\\\\n",
       "\t4 & Name &  \\\\\n",
       "\t5 & Sex &  \\\\\n",
       "\t6 & Age & 177 \\\\\n",
       "\t7 & SibSp &  \\\\\n",
       "\t8 & Parch &  \\\\\n",
       "\t9 & Ticket &  \\\\\n",
       "\t10 & Fare &  \\\\\n",
       "\t11 & Cabin & 687 \\\\\n",
       "\t12 & Embarked & 2 \\\\\n",
       "\\end{tabular}\n"
      ],
      "text/plain": [
       "12×2 DataFrame\n",
       "│ Row │ variable    │ nmissing │\n",
       "│     │ \u001b[90mSymbol\u001b[39m      │ \u001b[90mUnion…\u001b[39m   │\n",
       "├─────┼─────────────┼──────────┤\n",
       "│ 1   │ PassengerId │          │\n",
       "│ 2   │ Survived    │          │\n",
       "│ 3   │ Pclass      │          │\n",
       "│ 4   │ Name        │          │\n",
       "│ 5   │ Sex         │          │\n",
       "│ 6   │ Age         │ 177      │\n",
       "│ 7   │ SibSp       │          │\n",
       "│ 8   │ Parch       │          │\n",
       "│ 9   │ Ticket      │          │\n",
       "│ 10  │ Fare        │          │\n",
       "│ 11  │ Cabin       │ 687      │\n",
       "│ 12  │ Embarked    │ 2        │"
      ]
     },
     "execution_count": 4,
     "metadata": {},
     "output_type": "execute_result"
    }
   ],
   "source": [
    "describe(df, :nmissing)"
   ]
  },
  {
   "cell_type": "markdown",
   "metadata": {
    "colab_type": "text",
    "id": "feAkzNA-maUC"
   },
   "source": [
    "計算男性及女性的平均年齡。\n",
    "\n",
    "【提示】使用 `skipmissing()` 去掉缺漏值後，再計算平均值。"
   ]
  },
  {
   "cell_type": "code",
   "execution_count": 155,
   "metadata": {
    "colab": {},
    "colab_type": "code",
    "id": "wRiM0Gq_maUD"
   },
   "outputs": [
    {
     "data": {
      "text/html": [
       "<p><b>GroupedDataFrame with 2 groups based on key: Sex</b></p><p><i>First Group (314 rows): Sex = \"female\"</i></p><table class=\"data-frame\"><thead><tr><th></th><th>PassengerId</th><th>Survived</th><th>Pclass</th><th>Name</th></tr><tr><th></th><th>Int64</th><th>Int64</th><th>Int64</th><th>String</th></tr></thead><tbody><tr><th>1</th><td>2</td><td>1</td><td>1</td><td>Cumings, Mrs. John Bradley (Florence Briggs Thayer)</td></tr><tr><th>2</th><td>3</td><td>1</td><td>3</td><td>Heikkinen, Miss. Laina</td></tr><tr><th>3</th><td>4</td><td>1</td><td>1</td><td>Futrelle, Mrs. Jacques Heath (Lily May Peel)</td></tr><tr><th>4</th><td>9</td><td>1</td><td>3</td><td>Johnson, Mrs. Oscar W (Elisabeth Vilhelmina Berg)</td></tr><tr><th>5</th><td>10</td><td>1</td><td>2</td><td>Nasser, Mrs. Nicholas (Adele Achem)</td></tr><tr><th>6</th><td>11</td><td>1</td><td>3</td><td>Sandstrom, Miss. Marguerite Rut</td></tr><tr><th>7</th><td>12</td><td>1</td><td>1</td><td>Bonnell, Miss. Elizabeth</td></tr><tr><th>8</th><td>15</td><td>0</td><td>3</td><td>Vestrom, Miss. Hulda Amanda Adolfina</td></tr><tr><th>9</th><td>16</td><td>1</td><td>2</td><td>Hewlett, Mrs. (Mary D Kingcome) </td></tr><tr><th>10</th><td>19</td><td>0</td><td>3</td><td>Vander Planke, Mrs. Julius (Emelia Maria Vandemoortele)</td></tr><tr><th>11</th><td>20</td><td>1</td><td>3</td><td>Masselmani, Mrs. Fatima</td></tr><tr><th>12</th><td>23</td><td>1</td><td>3</td><td>McGowan, Miss. Anna \"Annie\"</td></tr><tr><th>13</th><td>25</td><td>0</td><td>3</td><td>Palsson, Miss. Torborg Danira</td></tr><tr><th>14</th><td>26</td><td>1</td><td>3</td><td>Asplund, Mrs. Carl Oscar (Selma Augusta Emilia Johansson)</td></tr><tr><th>15</th><td>29</td><td>1</td><td>3</td><td>O'Dwyer, Miss. Ellen \"Nellie\"</td></tr><tr><th>16</th><td>32</td><td>1</td><td>1</td><td>Spencer, Mrs. William Augustus (Marie Eugenie)</td></tr><tr><th>17</th><td>33</td><td>1</td><td>3</td><td>Glynn, Miss. Mary Agatha</td></tr><tr><th>18</th><td>39</td><td>0</td><td>3</td><td>Vander Planke, Miss. Augusta Maria</td></tr><tr><th>19</th><td>40</td><td>1</td><td>3</td><td>Nicola-Yarred, Miss. Jamila</td></tr><tr><th>20</th><td>41</td><td>0</td><td>3</td><td>Ahlin, Mrs. Johan (Johanna Persdotter Larsson)</td></tr><tr><th>21</th><td>42</td><td>0</td><td>2</td><td>Turpin, Mrs. William John Robert (Dorothy Ann Wonnacott)</td></tr><tr><th>22</th><td>44</td><td>1</td><td>2</td><td>Laroche, Miss. Simonne Marie Anne Andree</td></tr><tr><th>23</th><td>45</td><td>1</td><td>3</td><td>Devaney, Miss. Margaret Delia</td></tr><tr><th>24</th><td>48</td><td>1</td><td>3</td><td>O'Driscoll, Miss. Bridget</td></tr><tr><th>25</th><td>50</td><td>0</td><td>3</td><td>Arnold-Franchi, Mrs. Josef (Josefine Franchi)</td></tr><tr><th>26</th><td>53</td><td>1</td><td>1</td><td>Harper, Mrs. Henry Sleeper (Myna Haxtun)</td></tr><tr><th>27</th><td>54</td><td>1</td><td>2</td><td>Faunthorpe, Mrs. Lizzie (Elizabeth Anne Wilkinson)</td></tr><tr><th>28</th><td>57</td><td>1</td><td>2</td><td>Rugg, Miss. Emily</td></tr><tr><th>29</th><td>59</td><td>1</td><td>2</td><td>West, Miss. Constance Mirium</td></tr><tr><th>30</th><td>62</td><td>1</td><td>1</td><td>Icard, Miss. Amelie</td></tr><tr><th>&vellip;</th><td>&vellip;</td><td>&vellip;</td><td>&vellip;</td><td>&vellip;</td></tr></tbody></table><p>&vellip;</p><p><i>Last Group (577 rows): Sex = \"male\"</i></p><table class=\"data-frame\"><thead><tr><th></th><th>PassengerId</th><th>Survived</th><th>Pclass</th><th>Name</th><th>Sex</th><th>Age</th></tr><tr><th></th><th>Int64</th><th>Int64</th><th>Int64</th><th>String</th><th>String</th><th>Float64?</th></tr></thead><tbody><tr><th>1</th><td>1</td><td>0</td><td>3</td><td>Braund, Mr. Owen Harris</td><td>male</td><td>22.0</td></tr><tr><th>2</th><td>5</td><td>0</td><td>3</td><td>Allen, Mr. William Henry</td><td>male</td><td>35.0</td></tr><tr><th>3</th><td>6</td><td>0</td><td>3</td><td>Moran, Mr. James</td><td>male</td><td><em>missing</em></td></tr><tr><th>4</th><td>7</td><td>0</td><td>1</td><td>McCarthy, Mr. Timothy J</td><td>male</td><td>54.0</td></tr><tr><th>5</th><td>8</td><td>0</td><td>3</td><td>Palsson, Master. Gosta Leonard</td><td>male</td><td>2.0</td></tr><tr><th>6</th><td>13</td><td>0</td><td>3</td><td>Saundercock, Mr. William Henry</td><td>male</td><td>20.0</td></tr><tr><th>7</th><td>14</td><td>0</td><td>3</td><td>Andersson, Mr. Anders Johan</td><td>male</td><td>39.0</td></tr><tr><th>8</th><td>17</td><td>0</td><td>3</td><td>Rice, Master. Eugene</td><td>male</td><td>2.0</td></tr><tr><th>9</th><td>18</td><td>1</td><td>2</td><td>Williams, Mr. Charles Eugene</td><td>male</td><td><em>missing</em></td></tr><tr><th>10</th><td>21</td><td>0</td><td>2</td><td>Fynney, Mr. Joseph J</td><td>male</td><td>35.0</td></tr><tr><th>11</th><td>22</td><td>1</td><td>2</td><td>Beesley, Mr. Lawrence</td><td>male</td><td>34.0</td></tr><tr><th>12</th><td>24</td><td>1</td><td>1</td><td>Sloper, Mr. William Thompson</td><td>male</td><td>28.0</td></tr><tr><th>13</th><td>27</td><td>0</td><td>3</td><td>Emir, Mr. Farred Chehab</td><td>male</td><td><em>missing</em></td></tr><tr><th>14</th><td>28</td><td>0</td><td>1</td><td>Fortune, Mr. Charles Alexander</td><td>male</td><td>19.0</td></tr><tr><th>15</th><td>30</td><td>0</td><td>3</td><td>Todoroff, Mr. Lalio</td><td>male</td><td><em>missing</em></td></tr><tr><th>16</th><td>31</td><td>0</td><td>1</td><td>Uruchurtu, Don. Manuel E</td><td>male</td><td>40.0</td></tr><tr><th>17</th><td>34</td><td>0</td><td>2</td><td>Wheadon, Mr. Edward H</td><td>male</td><td>66.0</td></tr><tr><th>18</th><td>35</td><td>0</td><td>1</td><td>Meyer, Mr. Edgar Joseph</td><td>male</td><td>28.0</td></tr><tr><th>19</th><td>36</td><td>0</td><td>1</td><td>Holverson, Mr. Alexander Oskar</td><td>male</td><td>42.0</td></tr><tr><th>20</th><td>37</td><td>1</td><td>3</td><td>Mamee, Mr. Hanna</td><td>male</td><td><em>missing</em></td></tr><tr><th>21</th><td>38</td><td>0</td><td>3</td><td>Cann, Mr. Ernest Charles</td><td>male</td><td>21.0</td></tr><tr><th>22</th><td>43</td><td>0</td><td>3</td><td>Kraeff, Mr. Theodor</td><td>male</td><td><em>missing</em></td></tr><tr><th>23</th><td>46</td><td>0</td><td>3</td><td>Rogers, Mr. William John</td><td>male</td><td><em>missing</em></td></tr><tr><th>24</th><td>47</td><td>0</td><td>3</td><td>Lennon, Mr. Denis</td><td>male</td><td><em>missing</em></td></tr><tr><th>25</th><td>49</td><td>0</td><td>3</td><td>Samaan, Mr. Youssef</td><td>male</td><td><em>missing</em></td></tr><tr><th>26</th><td>51</td><td>0</td><td>3</td><td>Panula, Master. Juha Niilo</td><td>male</td><td>7.0</td></tr><tr><th>27</th><td>52</td><td>0</td><td>3</td><td>Nosworthy, Mr. Richard Cater</td><td>male</td><td>21.0</td></tr><tr><th>28</th><td>55</td><td>0</td><td>1</td><td>Ostby, Mr. Engelhart Cornelius</td><td>male</td><td>65.0</td></tr><tr><th>29</th><td>56</td><td>1</td><td>1</td><td>Woolner, Mr. Hugh</td><td>male</td><td><em>missing</em></td></tr><tr><th>30</th><td>58</td><td>0</td><td>3</td><td>Novel, Mr. Mansouer</td><td>male</td><td>28.5</td></tr><tr><th>&vellip;</th><td>&vellip;</td><td>&vellip;</td><td>&vellip;</td><td>&vellip;</td><td>&vellip;</td><td>&vellip;</td></tr></tbody></table>"
      ],
      "text/latex": [
       "GroupedDataFrame with 2 groups based on key: Sex\n",
       "\n",
       "First Group (314 rows): Sex = \"female\"\n",
       "\n",
       "\\begin{tabular}{r|ccccc}\n",
       "\t& PassengerId & Survived & Pclass & Name & \\\\\n",
       "\t\\hline\n",
       "\t& Int64 & Int64 & Int64 & String & \\\\\n",
       "\t\\hline\n",
       "\t1 & 2 & 1 & 1 & Cumings, Mrs. John Bradley (Florence Briggs Thayer) & $\\dots$ \\\\\n",
       "\t2 & 3 & 1 & 3 & Heikkinen, Miss. Laina & $\\dots$ \\\\\n",
       "\t3 & 4 & 1 & 1 & Futrelle, Mrs. Jacques Heath (Lily May Peel) & $\\dots$ \\\\\n",
       "\t4 & 9 & 1 & 3 & Johnson, Mrs. Oscar W (Elisabeth Vilhelmina Berg) & $\\dots$ \\\\\n",
       "\t5 & 10 & 1 & 2 & Nasser, Mrs. Nicholas (Adele Achem) & $\\dots$ \\\\\n",
       "\t6 & 11 & 1 & 3 & Sandstrom, Miss. Marguerite Rut & $\\dots$ \\\\\n",
       "\t7 & 12 & 1 & 1 & Bonnell, Miss. Elizabeth & $\\dots$ \\\\\n",
       "\t8 & 15 & 0 & 3 & Vestrom, Miss. Hulda Amanda Adolfina & $\\dots$ \\\\\n",
       "\t9 & 16 & 1 & 2 & Hewlett, Mrs. (Mary D Kingcome)  & $\\dots$ \\\\\n",
       "\t10 & 19 & 0 & 3 & Vander Planke, Mrs. Julius (Emelia Maria Vandemoortele) & $\\dots$ \\\\\n",
       "\t11 & 20 & 1 & 3 & Masselmani, Mrs. Fatima & $\\dots$ \\\\\n",
       "\t12 & 23 & 1 & 3 & McGowan, Miss. Anna \"Annie\" & $\\dots$ \\\\\n",
       "\t13 & 25 & 0 & 3 & Palsson, Miss. Torborg Danira & $\\dots$ \\\\\n",
       "\t14 & 26 & 1 & 3 & Asplund, Mrs. Carl Oscar (Selma Augusta Emilia Johansson) & $\\dots$ \\\\\n",
       "\t15 & 29 & 1 & 3 & O'Dwyer, Miss. Ellen \"Nellie\" & $\\dots$ \\\\\n",
       "\t16 & 32 & 1 & 1 & Spencer, Mrs. William Augustus (Marie Eugenie) & $\\dots$ \\\\\n",
       "\t17 & 33 & 1 & 3 & Glynn, Miss. Mary Agatha & $\\dots$ \\\\\n",
       "\t18 & 39 & 0 & 3 & Vander Planke, Miss. Augusta Maria & $\\dots$ \\\\\n",
       "\t19 & 40 & 1 & 3 & Nicola-Yarred, Miss. Jamila & $\\dots$ \\\\\n",
       "\t20 & 41 & 0 & 3 & Ahlin, Mrs. Johan (Johanna Persdotter Larsson) & $\\dots$ \\\\\n",
       "\t21 & 42 & 0 & 2 & Turpin, Mrs. William John Robert (Dorothy Ann Wonnacott) & $\\dots$ \\\\\n",
       "\t22 & 44 & 1 & 2 & Laroche, Miss. Simonne Marie Anne Andree & $\\dots$ \\\\\n",
       "\t23 & 45 & 1 & 3 & Devaney, Miss. Margaret Delia & $\\dots$ \\\\\n",
       "\t24 & 48 & 1 & 3 & O'Driscoll, Miss. Bridget & $\\dots$ \\\\\n",
       "\t25 & 50 & 0 & 3 & Arnold-Franchi, Mrs. Josef (Josefine Franchi) & $\\dots$ \\\\\n",
       "\t26 & 53 & 1 & 1 & Harper, Mrs. Henry Sleeper (Myna Haxtun) & $\\dots$ \\\\\n",
       "\t27 & 54 & 1 & 2 & Faunthorpe, Mrs. Lizzie (Elizabeth Anne Wilkinson) & $\\dots$ \\\\\n",
       "\t28 & 57 & 1 & 2 & Rugg, Miss. Emily & $\\dots$ \\\\\n",
       "\t29 & 59 & 1 & 2 & West, Miss. Constance Mirium & $\\dots$ \\\\\n",
       "\t30 & 62 & 1 & 1 & Icard, Miss. Amelie & $\\dots$ \\\\\n",
       "\t$\\dots$ & $\\dots$ & $\\dots$ & $\\dots$ & $\\dots$ &  \\\\\n",
       "\\end{tabular}\n",
       "\n",
       "$\\dots$\n",
       "\n",
       "Last Group (577 rows): Sex = \"male\"\n",
       "\n",
       "\\begin{tabular}{r|ccccccc}\n",
       "\t& PassengerId & Survived & Pclass & Name & Sex & Age & \\\\\n",
       "\t\\hline\n",
       "\t& Int64 & Int64 & Int64 & String & String & Float64? & \\\\\n",
       "\t\\hline\n",
       "\t1 & 1 & 0 & 3 & Braund, Mr. Owen Harris & male & 22.0 & $\\dots$ \\\\\n",
       "\t2 & 5 & 0 & 3 & Allen, Mr. William Henry & male & 35.0 & $\\dots$ \\\\\n",
       "\t3 & 6 & 0 & 3 & Moran, Mr. James & male & \\emph{missing} & $\\dots$ \\\\\n",
       "\t4 & 7 & 0 & 1 & McCarthy, Mr. Timothy J & male & 54.0 & $\\dots$ \\\\\n",
       "\t5 & 8 & 0 & 3 & Palsson, Master. Gosta Leonard & male & 2.0 & $\\dots$ \\\\\n",
       "\t6 & 13 & 0 & 3 & Saundercock, Mr. William Henry & male & 20.0 & $\\dots$ \\\\\n",
       "\t7 & 14 & 0 & 3 & Andersson, Mr. Anders Johan & male & 39.0 & $\\dots$ \\\\\n",
       "\t8 & 17 & 0 & 3 & Rice, Master. Eugene & male & 2.0 & $\\dots$ \\\\\n",
       "\t9 & 18 & 1 & 2 & Williams, Mr. Charles Eugene & male & \\emph{missing} & $\\dots$ \\\\\n",
       "\t10 & 21 & 0 & 2 & Fynney, Mr. Joseph J & male & 35.0 & $\\dots$ \\\\\n",
       "\t11 & 22 & 1 & 2 & Beesley, Mr. Lawrence & male & 34.0 & $\\dots$ \\\\\n",
       "\t12 & 24 & 1 & 1 & Sloper, Mr. William Thompson & male & 28.0 & $\\dots$ \\\\\n",
       "\t13 & 27 & 0 & 3 & Emir, Mr. Farred Chehab & male & \\emph{missing} & $\\dots$ \\\\\n",
       "\t14 & 28 & 0 & 1 & Fortune, Mr. Charles Alexander & male & 19.0 & $\\dots$ \\\\\n",
       "\t15 & 30 & 0 & 3 & Todoroff, Mr. Lalio & male & \\emph{missing} & $\\dots$ \\\\\n",
       "\t16 & 31 & 0 & 1 & Uruchurtu, Don. Manuel E & male & 40.0 & $\\dots$ \\\\\n",
       "\t17 & 34 & 0 & 2 & Wheadon, Mr. Edward H & male & 66.0 & $\\dots$ \\\\\n",
       "\t18 & 35 & 0 & 1 & Meyer, Mr. Edgar Joseph & male & 28.0 & $\\dots$ \\\\\n",
       "\t19 & 36 & 0 & 1 & Holverson, Mr. Alexander Oskar & male & 42.0 & $\\dots$ \\\\\n",
       "\t20 & 37 & 1 & 3 & Mamee, Mr. Hanna & male & \\emph{missing} & $\\dots$ \\\\\n",
       "\t21 & 38 & 0 & 3 & Cann, Mr. Ernest Charles & male & 21.0 & $\\dots$ \\\\\n",
       "\t22 & 43 & 0 & 3 & Kraeff, Mr. Theodor & male & \\emph{missing} & $\\dots$ \\\\\n",
       "\t23 & 46 & 0 & 3 & Rogers, Mr. William John & male & \\emph{missing} & $\\dots$ \\\\\n",
       "\t24 & 47 & 0 & 3 & Lennon, Mr. Denis & male & \\emph{missing} & $\\dots$ \\\\\n",
       "\t25 & 49 & 0 & 3 & Samaan, Mr. Youssef & male & \\emph{missing} & $\\dots$ \\\\\n",
       "\t26 & 51 & 0 & 3 & Panula, Master. Juha Niilo & male & 7.0 & $\\dots$ \\\\\n",
       "\t27 & 52 & 0 & 3 & Nosworthy, Mr. Richard Cater & male & 21.0 & $\\dots$ \\\\\n",
       "\t28 & 55 & 0 & 1 & Ostby, Mr. Engelhart Cornelius & male & 65.0 & $\\dots$ \\\\\n",
       "\t29 & 56 & 1 & 1 & Woolner, Mr. Hugh & male & \\emph{missing} & $\\dots$ \\\\\n",
       "\t30 & 58 & 0 & 3 & Novel, Mr. Mansouer & male & 28.5 & $\\dots$ \\\\\n",
       "\t$\\dots$ & $\\dots$ & $\\dots$ & $\\dots$ & $\\dots$ & $\\dots$ & $\\dots$ &  \\\\\n",
       "\\end{tabular}\n"
      ],
      "text/plain": [
       "GroupedDataFrame with 2 groups based on key: Sex\n",
       "First Group (314 rows): Sex = \"female\". Omitted printing of 9 columns\n",
       "│ Row │ PassengerId │ Survived │ Pclass │\n",
       "│     │ \u001b[90mInt64\u001b[39m       │ \u001b[90mInt64\u001b[39m    │ \u001b[90mInt64\u001b[39m  │\n",
       "├─────┼─────────────┼──────────┼────────┤\n",
       "│ 1   │ 2           │ 1        │ 1      │\n",
       "│ 2   │ 3           │ 1        │ 3      │\n",
       "│ 3   │ 4           │ 1        │ 1      │\n",
       "│ 4   │ 9           │ 1        │ 3      │\n",
       "│ 5   │ 10          │ 1        │ 2      │\n",
       "│ 6   │ 11          │ 1        │ 3      │\n",
       "│ 7   │ 12          │ 1        │ 1      │\n",
       "│ 8   │ 15          │ 0        │ 3      │\n",
       "│ 9   │ 16          │ 1        │ 2      │\n",
       "│ 10  │ 19          │ 0        │ 3      │\n",
       "⋮\n",
       "│ 304 │ 866         │ 1        │ 2      │\n",
       "│ 305 │ 867         │ 1        │ 2      │\n",
       "│ 306 │ 872         │ 1        │ 1      │\n",
       "│ 307 │ 875         │ 1        │ 2      │\n",
       "│ 308 │ 876         │ 1        │ 3      │\n",
       "│ 309 │ 880         │ 1        │ 1      │\n",
       "│ 310 │ 881         │ 1        │ 2      │\n",
       "│ 311 │ 883         │ 0        │ 3      │\n",
       "│ 312 │ 886         │ 0        │ 3      │\n",
       "│ 313 │ 888         │ 1        │ 1      │\n",
       "│ 314 │ 889         │ 0        │ 3      │\n",
       "⋮\n",
       "Last Group (577 rows): Sex = \"male\". Omitted printing of 8 columns\n",
       "│ Row │ PassengerId │ Survived │ Pclass │ Name                           │\n",
       "│     │ \u001b[90mInt64\u001b[39m       │ \u001b[90mInt64\u001b[39m    │ \u001b[90mInt64\u001b[39m  │ \u001b[90mString\u001b[39m                         │\n",
       "├─────┼─────────────┼──────────┼────────┼────────────────────────────────┤\n",
       "│ 1   │ 1           │ 0        │ 3      │ Braund, Mr. Owen Harris        │\n",
       "│ 2   │ 5           │ 0        │ 3      │ Allen, Mr. William Henry       │\n",
       "│ 3   │ 6           │ 0        │ 3      │ Moran, Mr. James               │\n",
       "│ 4   │ 7           │ 0        │ 1      │ McCarthy, Mr. Timothy J        │\n",
       "│ 5   │ 8           │ 0        │ 3      │ Palsson, Master. Gosta Leonard │\n",
       "│ 6   │ 13          │ 0        │ 3      │ Saundercock, Mr. William Henry │\n",
       "│ 7   │ 14          │ 0        │ 3      │ Andersson, Mr. Anders Johan    │\n",
       "│ 8   │ 17          │ 0        │ 3      │ Rice, Master. Eugene           │\n",
       "│ 9   │ 18          │ 1        │ 2      │ Williams, Mr. Charles Eugene   │\n",
       "│ 10  │ 21          │ 0        │ 2      │ Fynney, Mr. Joseph J           │\n",
       "⋮\n",
       "│ 567 │ 873         │ 0        │ 1      │ Carlsson, Mr. Frans Olof       │\n",
       "│ 568 │ 874         │ 0        │ 3      │ Vander Cruyssen, Mr. Victor    │\n",
       "│ 569 │ 877         │ 0        │ 3      │ Gustafsson, Mr. Alfred Ossian  │\n",
       "│ 570 │ 878         │ 0        │ 3      │ Petroff, Mr. Nedelio           │\n",
       "│ 571 │ 879         │ 0        │ 3      │ Laleff, Mr. Kristo             │\n",
       "│ 572 │ 882         │ 0        │ 3      │ Markun, Mr. Johann             │\n",
       "│ 573 │ 884         │ 0        │ 2      │ Banfield, Mr. Frederick James  │\n",
       "│ 574 │ 885         │ 0        │ 3      │ Sutehall, Mr. Henry Jr         │\n",
       "│ 575 │ 887         │ 0        │ 2      │ Montvila, Rev. Juozas          │\n",
       "│ 576 │ 890         │ 1        │ 1      │ Behr, Mr. Karl Howell          │\n",
       "│ 577 │ 891         │ 0        │ 3      │ Dooley, Mr. Patrick            │"
      ]
     },
     "execution_count": 155,
     "metadata": {},
     "output_type": "execute_result"
    }
   ],
   "source": [
    "using Statistics\n",
    "gp = groupby(df,[\"Sex\"], sort=true)"
   ]
  },
  {
   "cell_type": "code",
   "execution_count": 156,
   "metadata": {
    "colab": {},
    "colab_type": "code",
    "id": "54yYKzADmaUM"
   },
   "outputs": [
    {
     "data": {
      "text/html": [
       "<table class=\"data-frame\"><thead><tr><th></th><th>Age_function</th></tr><tr><th></th><th>Float64</th></tr></thead><tbody><p>1 rows × 1 columns</p><tr><th>1</th><td>30.7266</td></tr></tbody></table>"
      ],
      "text/latex": [
       "\\begin{tabular}{r|c}\n",
       "\t& Age\\_function\\\\\n",
       "\t\\hline\n",
       "\t& Float64\\\\\n",
       "\t\\hline\n",
       "\t1 & 30.7266 \\\\\n",
       "\\end{tabular}\n"
      ],
      "text/plain": [
       "1×1 DataFrame\n",
       "│ Row │ Age_function │\n",
       "│     │ \u001b[90mFloat64\u001b[39m      │\n",
       "├─────┼──────────────┤\n",
       "│ 1   │ 30.7266      │"
      ]
     },
     "execution_count": 156,
     "metadata": {},
     "output_type": "execute_result"
    }
   ],
   "source": [
    "dfm = gp[2]\n",
    "male_age_avg = combine([:Age] => (a) -> (Age_mean=mean(skipmissing(a))),dfm)# 請輸入程式碼"
   ]
  },
  {
   "cell_type": "code",
   "execution_count": 157,
   "metadata": {
    "colab": {},
    "colab_type": "code",
    "id": "4w92N00-maUT"
   },
   "outputs": [
    {
     "data": {
      "text/html": [
       "<table class=\"data-frame\"><thead><tr><th></th><th>Age_function</th></tr><tr><th></th><th>Float64</th></tr></thead><tbody><p>1 rows × 1 columns</p><tr><th>1</th><td>27.9157</td></tr></tbody></table>"
      ],
      "text/latex": [
       "\\begin{tabular}{r|c}\n",
       "\t& Age\\_function\\\\\n",
       "\t\\hline\n",
       "\t& Float64\\\\\n",
       "\t\\hline\n",
       "\t1 & 27.9157 \\\\\n",
       "\\end{tabular}\n"
      ],
      "text/plain": [
       "1×1 DataFrame\n",
       "│ Row │ Age_function │\n",
       "│     │ \u001b[90mFloat64\u001b[39m      │\n",
       "├─────┼──────────────┤\n",
       "│ 1   │ 27.9157      │"
      ]
     },
     "execution_count": 157,
     "metadata": {},
     "output_type": "execute_result"
    }
   ],
   "source": [
    "dff = gp[1]\n",
    "female_age_avg = combine([:Age] => (a) -> (Age_mean=mean(skipmissing(a))),dff)# 請輸入程式碼"
   ]
  },
  {
   "cell_type": "markdown",
   "metadata": {
    "colab_type": "text",
    "id": "-O9fseP7maUa"
   },
   "source": [
    "將 Age column 中的 missing 值，依性別替換為上面計算出來的平均年齡值。\n",
    "\n",
    "【提示】可產生新的 column 來存放新的結果，而不取代掉原先的 Age column。"
   ]
  },
  {
   "cell_type": "code",
   "execution_count": 167,
   "metadata": {
    "colab": {},
    "colab_type": "code",
    "id": "UEtMiJrOmaUb"
   },
   "outputs": [
    {
     "name": "stderr",
     "output_type": "stream",
     "text": [
      "┌ Warning: `getindex(df::DataFrame, col_ind::ColumnIndex)` is deprecated, use `df[!, col_ind]` instead.\n",
      "│   caller = top-level scope at In[167]:2\n",
      "└ @ Core In[167]:2\n"
     ]
    },
    {
     "data": {
      "text/html": [
       "<table class=\"data-frame\"><thead><tr><th></th><th>New_AverageAge</th></tr><tr><th></th><th>Float64</th></tr></thead><tbody><p>1 rows × 1 columns</p><tr><th>1</th><td>30.7266</td></tr></tbody></table>"
      ],
      "text/latex": [
       "\\begin{tabular}{r|c}\n",
       "\t& New\\_AverageAge\\\\\n",
       "\t\\hline\n",
       "\t& Float64\\\\\n",
       "\t\\hline\n",
       "\t1 & 30.7266 \\\\\n",
       "\\end{tabular}\n"
      ],
      "text/plain": [
       "1×1 DataFrame\n",
       "│ Row │ New_AverageAge │\n",
       "│     │ \u001b[90mFloat64\u001b[39m        │\n",
       "├─────┼────────────────┤\n",
       "│ 1   │ 30.7266        │"
      ]
     },
     "execution_count": 167,
     "metadata": {},
     "output_type": "execute_result"
    }
   ],
   "source": [
    "dfm2 = copy(dfm)\n",
    "dfmA = coalesce.(dfm2[:Age], male_age_avg)\n",
    "dfmA = combine(dfmA,:Age_function => mean => :New_AverageAge)"
   ]
  },
  {
   "cell_type": "code",
   "execution_count": 166,
   "metadata": {
    "colab": {},
    "colab_type": "code",
    "id": "szWNK43vmaUh"
   },
   "outputs": [
    {
     "name": "stderr",
     "output_type": "stream",
     "text": [
      "┌ Warning: `getindex(df::DataFrame, col_ind::ColumnIndex)` is deprecated, use `df[!, col_ind]` instead.\n",
      "│   caller = top-level scope at In[166]:2\n",
      "└ @ Core In[166]:2\n"
     ]
    },
    {
     "data": {
      "text/html": [
       "<table class=\"data-frame\"><thead><tr><th></th><th>New_AverageAge</th></tr><tr><th></th><th>Float64</th></tr></thead><tbody><p>1 rows × 1 columns</p><tr><th>1</th><td>27.9157</td></tr></tbody></table>"
      ],
      "text/latex": [
       "\\begin{tabular}{r|c}\n",
       "\t& New\\_AverageAge\\\\\n",
       "\t\\hline\n",
       "\t& Float64\\\\\n",
       "\t\\hline\n",
       "\t1 & 27.9157 \\\\\n",
       "\\end{tabular}\n"
      ],
      "text/plain": [
       "1×1 DataFrame\n",
       "│ Row │ New_AverageAge │\n",
       "│     │ \u001b[90mFloat64\u001b[39m        │\n",
       "├─────┼────────────────┤\n",
       "│ 1   │ 27.9157        │"
      ]
     },
     "execution_count": 166,
     "metadata": {},
     "output_type": "execute_result"
    }
   ],
   "source": [
    "dff2 = copy(dff)\n",
    "dffA = coalesce.(dff2[:Age], female_age_avg)\n",
    "dffA2 = combine(dffA,:Age_function => mean => :New_AverageAge)"
   ]
  }
 ],
 "metadata": {
  "colab": {
   "name": "julia_020_hw.ipynb",
   "provenance": []
  },
  "kernelspec": {
   "display_name": "Julia 1.4.2",
   "language": "julia",
   "name": "julia-1.4"
  },
  "language_info": {
   "file_extension": ".jl",
   "mimetype": "application/julia",
   "name": "julia",
   "version": "1.4.2"
  }
 },
 "nbformat": 4,
 "nbformat_minor": 1
}
