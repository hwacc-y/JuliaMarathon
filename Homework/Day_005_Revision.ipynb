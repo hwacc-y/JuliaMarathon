{
 "cells": [
  {
   "cell_type": "code",
   "execution_count": 6,
   "metadata": {},
   "outputs": [
    {
     "name": "stdout",
     "output_type": "stream",
     "text": [
      "3.14128\n"
     ]
    }
   ],
   "source": [
    "count = 0\n",
    "for i = 1:100000\n",
    "    x = rand() \n",
    "    y = rand()\n",
    "    \n",
    "    # 計算隨機點到中心點的距離，若距離小於半徑，表示點落在圓內\n",
    "    dist = sqrt((x - 0.5) ^ 2 + (y - 0.5) ^ 2)\n",
    "    \n",
    "    if dist <= 0.5\n",
    "        count += 1\n",
    "    end\n",
    "end\n",
    "mypi = 4 * (count/100000)\n",
    "println(mypi)"
   ]
  },
  {
   "cell_type": "code",
   "execution_count": null,
   "metadata": {},
   "outputs": [],
   "source": []
  },
  {
   "cell_type": "code",
   "execution_count": null,
   "metadata": {},
   "outputs": [],
   "source": []
  }
 ],
 "metadata": {
  "kernelspec": {
   "display_name": "Julia 1.2.0",
   "language": "julia",
   "name": "julia-1.2"
  },
  "language_info": {
   "file_extension": ".jl",
   "mimetype": "application/julia",
   "name": "julia",
   "version": "1.2.0"
  }
 },
 "nbformat": 4,
 "nbformat_minor": 4
}
